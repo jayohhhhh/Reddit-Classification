{
 "cells": [
  {
   "cell_type": "code",
   "execution_count": 12,
   "id": "c5039f01-e949-42cd-8df4-dff11694c248",
   "metadata": {
    "tags": []
   },
   "outputs": [],
   "source": [
    "import praw\n",
    "import pandas as pd\n",
    "import time"
   ]
  },
  {
   "cell_type": "markdown",
   "id": "2938a1bc-d44a-419a-b3fd-96a12a433cbd",
   "metadata": {
    "tags": []
   },
   "source": [
    "reddit = praw.Reddit(\n",
    "    client_id='****',\n",
    "    client_secret='****',\n",
    "    user_agent='****',\n",
    "    username='****',\n",
    "    password='****'\n",
    ")"
   ]
  },
  {
   "cell_type": "code",
   "execution_count": 23,
   "id": "5b692214-7924-4782-bf8c-1bc0bcda381c",
   "metadata": {
    "tags": []
   },
   "outputs": [],
   "source": [
    "reddit = praw.Reddit(\n",
    "    client_id='****',\n",
    "    client_secret='****',\n",
    "    user_agent='****',\n",
    "    username='****',\n",
    "    password='****'\n",
    ")"
   ]
  },
  {
   "cell_type": "code",
   "execution_count": 24,
   "id": "95738f06-6790-455f-b3be-234d6d3a26bc",
   "metadata": {
    "tags": []
   },
   "outputs": [],
   "source": [
    "# shows entire value for values in 'created_utc'\n",
    "pd.options.display.float_format = '{:.0f}'.format"
   ]
  },
  {
   "cell_type": "code",
   "execution_count": 30,
   "id": "658ebf77-c3cb-4059-ae3f-54a7b69f71b6",
   "metadata": {
    "tags": []
   },
   "outputs": [],
   "source": [
    "# function to scrape maximum posts from each subreddit for each sorting method.\n",
    "def get_subreddits(subreddits, sorts):\n",
    "    data = []\n",
    "    for subreddit in subreddits:\n",
    "        subreddit = reddit.subreddit(subreddit)   \n",
    "        for sort in sorts:\n",
    "            posts = getattr(subreddit, sort)(limit=5000)\n",
    "            for post in posts:\n",
    "                data.append([post.created_utc, post.title, post.selftext, post.subreddit])\n",
    "\n",
    "    scrape = pd.DataFrame(data, columns = ['created_utc', 'title', 'self_text', 'subreddit'])\n",
    "    scrape['utc_datetime'] = pd.to_datetime(scrape['created_utc'], unit='s') # shows date and time for UNIX timestamp\n",
    "    return scrape.head(3)"
   ]
  },
  {
   "cell_type": "code",
   "execution_count": 31,
   "id": "75974dcd-764f-4451-bace-1d791b3097d0",
   "metadata": {
    "tags": []
   },
   "outputs": [
    {
     "data": {
      "text/html": [
       "<div>\n",
       "<style scoped>\n",
       "    .dataframe tbody tr th:only-of-type {\n",
       "        vertical-align: middle;\n",
       "    }\n",
       "\n",
       "    .dataframe tbody tr th {\n",
       "        vertical-align: top;\n",
       "    }\n",
       "\n",
       "    .dataframe thead th {\n",
       "        text-align: right;\n",
       "    }\n",
       "</style>\n",
       "<table border=\"1\" class=\"dataframe\">\n",
       "  <thead>\n",
       "    <tr style=\"text-align: right;\">\n",
       "      <th></th>\n",
       "      <th>created_utc</th>\n",
       "      <th>title</th>\n",
       "      <th>self_text</th>\n",
       "      <th>subreddit</th>\n",
       "      <th>utc_datetime</th>\n",
       "    </tr>\n",
       "  </thead>\n",
       "  <tbody>\n",
       "    <tr>\n",
       "      <th>0</th>\n",
       "      <td>1713760428</td>\n",
       "      <td>Any disabled people love their trike/ bike too?</td>\n",
       "      <td>Hey there, so I been doing cycling for sometim...</td>\n",
       "      <td>cycling</td>\n",
       "      <td>2024-04-22 04:33:48</td>\n",
       "    </tr>\n",
       "    <tr>\n",
       "      <th>1</th>\n",
       "      <td>1713758948</td>\n",
       "      <td>No training one week before a 50k- Is it even ...</td>\n",
       "      <td>I (35m) am a casual cyclist (mostly MTB). I di...</td>\n",
       "      <td>cycling</td>\n",
       "      <td>2024-04-22 04:09:08</td>\n",
       "    </tr>\n",
       "    <tr>\n",
       "      <th>2</th>\n",
       "      <td>1713757995</td>\n",
       "      <td>Highway Code - UK</td>\n",
       "      <td>I was on my normal commute to work the other d...</td>\n",
       "      <td>cycling</td>\n",
       "      <td>2024-04-22 03:53:15</td>\n",
       "    </tr>\n",
       "  </tbody>\n",
       "</table>\n",
       "</div>"
      ],
      "text/plain": [
       "   created_utc                                              title  \\\n",
       "0   1713760428    Any disabled people love their trike/ bike too?   \n",
       "1   1713758948  No training one week before a 50k- Is it even ...   \n",
       "2   1713757995                                  Highway Code - UK   \n",
       "\n",
       "                                           self_text subreddit  \\\n",
       "0  Hey there, so I been doing cycling for sometim...   cycling   \n",
       "1  I (35m) am a casual cyclist (mostly MTB). I di...   cycling   \n",
       "2  I was on my normal commute to work the other d...   cycling   \n",
       "\n",
       "         utc_datetime  \n",
       "0 2024-04-22 04:33:48  \n",
       "1 2024-04-22 04:09:08  \n",
       "2 2024-04-22 03:53:15  "
      ]
     },
     "execution_count": 31,
     "metadata": {},
     "output_type": "execute_result"
    }
   ],
   "source": [
    "get_subreddits(subreddits, sorts)"
   ]
  },
  {
   "cell_type": "code",
   "execution_count": 32,
   "id": "b1a1c67b-6f36-4154-a1e6-a2a63e1bb5c6",
   "metadata": {
    "tags": []
   },
   "outputs": [
    {
     "data": {
      "text/plain": [
       "((6029, 5), (3859, 5))"
      ]
     },
     "execution_count": 32,
     "metadata": {},
     "output_type": "execute_result"
    }
   ],
   "source": [
    "# how many duplicates?\n",
    "scrape.shape, scrape.drop_duplicates().shape"
   ]
  },
  {
   "cell_type": "code",
   "execution_count": 242,
   "id": "6dd7cc9a-757b-4ff9-b45f-e9dde4309409",
   "metadata": {
    "tags": []
   },
   "outputs": [],
   "source": [
    "df.to_csv('data/scrape.csv', index=False)"
   ]
  },
  {
   "cell_type": "code",
   "execution_count": null,
   "id": "908582cb-66e1-4037-8986-e0fc95f8c138",
   "metadata": {},
   "outputs": [],
   "source": []
  },
  {
   "cell_type": "code",
   "execution_count": null,
   "id": "1f2f5939-4d53-4e13-9f60-fff1eeb2db1c",
   "metadata": {},
   "outputs": [],
   "source": []
  },
  {
   "cell_type": "code",
   "execution_count": null,
   "id": "1a9e2fab-def2-4515-8b9f-200d2b1e144a",
   "metadata": {},
   "outputs": [],
   "source": []
  },
  {
   "cell_type": "code",
   "execution_count": null,
   "id": "b3a91bfb-064d-4c84-8551-87cb053f4d93",
   "metadata": {},
   "outputs": [],
   "source": []
  },
  {
   "cell_type": "code",
   "execution_count": null,
   "id": "f425017e-5355-4dec-96ea-12cdedfe3692",
   "metadata": {},
   "outputs": [],
   "source": []
  },
  {
   "cell_type": "code",
   "execution_count": null,
   "id": "5e09b7f6-9539-4c0d-b05d-6eb8c6249f7a",
   "metadata": {},
   "outputs": [],
   "source": []
  },
  {
   "cell_type": "code",
   "execution_count": null,
   "id": "e5713807-f745-4eed-aacc-9d7904fcb1e4",
   "metadata": {},
   "outputs": [],
   "source": []
  },
  {
   "cell_type": "code",
   "execution_count": null,
   "id": "9d892899-b40d-497f-8b7c-18e672083b6a",
   "metadata": {},
   "outputs": [],
   "source": []
  },
  {
   "cell_type": "code",
   "execution_count": null,
   "id": "0b1123b5-24ae-4a9d-8e03-f39d291aa6f9",
   "metadata": {},
   "outputs": [],
   "source": []
  },
  {
   "cell_type": "code",
   "execution_count": null,
   "id": "791b3331-6efd-44ea-bf8c-47195056caa9",
   "metadata": {},
   "outputs": [],
   "source": []
  }
 ],
 "metadata": {
  "kernelspec": {
   "display_name": "Python 3 (ipykernel)",
   "language": "python",
   "name": "python3"
  },
  "language_info": {
   "codemirror_mode": {
    "name": "ipython",
    "version": 3
   },
   "file_extension": ".py",
   "mimetype": "text/x-python",
   "name": "python",
   "nbconvert_exporter": "python",
   "pygments_lexer": "ipython3",
   "version": "3.11.5"
  }
 },
 "nbformat": 4,
 "nbformat_minor": 5
}
