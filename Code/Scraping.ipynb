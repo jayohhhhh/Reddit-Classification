{
 "cells": [
  {
   "cell_type": "code",
   "execution_count": 228,
   "id": "c5039f01-e949-42cd-8df4-dff11694c248",
   "metadata": {
    "tags": []
   },
   "outputs": [],
   "source": [
    "import praw\n",
    "import pandas as pd\n",
    "import time"
   ]
  },
  {
   "cell_type": "markdown",
   "id": "2938a1bc-d44a-419a-b3fd-96a12a433cbd",
   "metadata": {
    "tags": []
   },
   "source": [
    "reddit = praw.Reddit(\n",
    "    client_id='****',\n",
    "    client_secret='****',\n",
    "    user_agent='****',\n",
    "    username='****',\n",
    "    password='****'\n",
    ")"
   ]
  },
  {
   "cell_type": "code",
   "execution_count": 36,
   "id": "95738f06-6790-455f-b3be-234d6d3a26bc",
   "metadata": {
    "tags": []
   },
   "outputs": [],
   "source": [
    "# shows entire value for values in 'created_utc'\n",
    "pd.options.display.float_format = '{:.0f}'.format"
   ]
  },
  {
   "cell_type": "code",
   "execution_count": 230,
   "id": "98bcb552-4f85-47c7-9932-24bf8f175255",
   "metadata": {
    "tags": []
   },
   "outputs": [
    {
     "data": {
      "text/html": [
       "<div>\n",
       "<style scoped>\n",
       "    .dataframe tbody tr th:only-of-type {\n",
       "        vertical-align: middle;\n",
       "    }\n",
       "\n",
       "    .dataframe tbody tr th {\n",
       "        vertical-align: top;\n",
       "    }\n",
       "\n",
       "    .dataframe thead th {\n",
       "        text-align: right;\n",
       "    }\n",
       "</style>\n",
       "<table border=\"1\" class=\"dataframe\">\n",
       "  <thead>\n",
       "    <tr style=\"text-align: right;\">\n",
       "      <th></th>\n",
       "      <th>created_utc</th>\n",
       "      <th>title</th>\n",
       "      <th>self_text</th>\n",
       "      <th>subreddit</th>\n",
       "      <th>utc_datetime</th>\n",
       "    </tr>\n",
       "  </thead>\n",
       "  <tbody>\n",
       "    <tr>\n",
       "      <th>0</th>\n",
       "      <td>1709156913</td>\n",
       "      <td>Should Racers shave their heads?</td>\n",
       "      <td>During the 2023 Tour De France, several of the...</td>\n",
       "      <td>cycling</td>\n",
       "      <td>2024-02-28 21:20:22</td>\n",
       "    </tr>\n",
       "    <tr>\n",
       "      <th>1</th>\n",
       "      <td>1709156619</td>\n",
       "      <td>Long distance ride advice</td>\n",
       "      <td>Fellow humans,\\n\\nI am planning a long distanc...</td>\n",
       "      <td>cycling</td>\n",
       "      <td>2024-02-28 21:12:03</td>\n",
       "    </tr>\n",
       "  </tbody>\n",
       "</table>\n",
       "</div>"
      ],
      "text/plain": [
       "   created_utc                             title  \\\n",
       "0   1709156913  Should Racers shave their heads?   \n",
       "1   1709156619         Long distance ride advice   \n",
       "\n",
       "                                           self_text subreddit  \\\n",
       "0  During the 2023 Tour De France, several of the...   cycling   \n",
       "1  Fellow humans,\\n\\nI am planning a long distanc...   cycling   \n",
       "\n",
       "         utc_datetime  \n",
       "0 2024-02-28 21:20:22  \n",
       "1 2024-02-28 21:12:03  "
      ]
     },
     "execution_count": 230,
     "metadata": {},
     "output_type": "execute_result"
    }
   ],
   "source": [
    "# SCRAPE for all subreddits for each sorting method\n",
    "subreddits = ['cycling', 'pilates']\n",
    "sorts = ['new', 'hot', 'top', 'rising']\n",
    "data = []\n",
    "for subreddit in subreddits:\n",
    "    subreddit = reddit.subreddit(subreddit)   \n",
    "    for sort in sorts:\n",
    "        posts = getattr(subreddit, sort)(limit=5000)\n",
    "        for post in posts:\n",
    "            data.append([post.created_utc, post.title, post.selftext, post.subreddit])\n",
    "\n",
    "bigscrape = pd.DataFrame(data, columns = ['created_utc', 'title', 'self_text', 'subreddit'])\n",
    "bigscrape['utc_datetime'] = pd.to_datetime(df['created_utc'], unit='s') # shows date and time for UNIX timestamp\n",
    "bigscrape.head(2)\n",
    "# Source cited: ChatGPT for getattr command"
   ]
  },
  {
   "cell_type": "code",
   "execution_count": 231,
   "id": "b1a1c67b-6f36-4154-a1e6-a2a63e1bb5c6",
   "metadata": {
    "tags": []
   },
   "outputs": [
    {
     "data": {
      "text/plain": [
       "(6018, 5)"
      ]
     },
     "execution_count": 231,
     "metadata": {},
     "output_type": "execute_result"
    }
   ],
   "source": [
    "bigscrape.shape"
   ]
  },
  {
   "cell_type": "code",
   "execution_count": 232,
   "id": "ae992b86-edf7-4be5-bf73-4c21ce15919b",
   "metadata": {
    "tags": []
   },
   "outputs": [
    {
     "data": {
      "text/plain": [
       "(5749, 5)"
      ]
     },
     "execution_count": 232,
     "metadata": {},
     "output_type": "execute_result"
    }
   ],
   "source": [
    "bigscrape.drop_duplicates().shape"
   ]
  },
  {
   "cell_type": "code",
   "execution_count": 235,
   "id": "52ade0cb-fd74-4c71-a87c-a4933fe9104f",
   "metadata": {
    "tags": []
   },
   "outputs": [],
   "source": [
    "subscrape3 = pd.read_csv('data/subreddit_scrape3.csv')"
   ]
  },
  {
   "cell_type": "code",
   "execution_count": 236,
   "id": "6ed75d3e-7059-4bf0-b5d5-92f895d95705",
   "metadata": {
    "tags": []
   },
   "outputs": [],
   "source": [
    "df4 = pd.concat([bigscrape, subscrape3])"
   ]
  },
  {
   "cell_type": "code",
   "execution_count": 214,
   "id": "8a508cdb-71f7-499a-af1d-3473703838b3",
   "metadata": {
    "tags": []
   },
   "outputs": [],
   "source": [
    "#dropped all duplicates after merging our first 3 scrapes\n",
    "df3 = df3.drop_duplicates()"
   ]
  },
  {
   "cell_type": "code",
   "execution_count": 215,
   "id": "0c0022d1-c7f0-475a-8ad9-f834942503ed",
   "metadata": {
    "tags": []
   },
   "outputs": [
    {
     "data": {
      "text/plain": [
       "(7698, 5)"
      ]
     },
     "execution_count": 215,
     "metadata": {},
     "output_type": "execute_result"
    }
   ],
   "source": [
    "df3.shape"
   ]
  },
  {
   "cell_type": "code",
   "execution_count": 202,
   "id": "ddd7fbef-11cf-4bdb-9418-1d903aab67aa",
   "metadata": {
    "tags": []
   },
   "outputs": [
    {
     "data": {
      "text/plain": [
       "(7698, 5)"
      ]
     },
     "execution_count": 202,
     "metadata": {},
     "output_type": "execute_result"
    }
   ],
   "source": [
    "df = pd.read_csv('data/subreddit_scrape3.csv')\n",
    "subscrapes.shape"
   ]
  },
  {
   "cell_type": "code",
   "execution_count": 216,
   "id": "8295af27-0184-45c9-b77b-8856db817ae9",
   "metadata": {
    "tags": []
   },
   "outputs": [],
   "source": [
    "subscrapes = subscrapes.drop_duplicates()"
   ]
  },
  {
   "cell_type": "code",
   "execution_count": 217,
   "id": "a314d5aa-4d60-4446-8744-2372ccddf2a2",
   "metadata": {
    "tags": []
   },
   "outputs": [
    {
     "data": {
      "text/plain": [
       "(3912, 5)"
      ]
     },
     "execution_count": 217,
     "metadata": {},
     "output_type": "execute_result"
    }
   ],
   "source": [
    "subscrapes.shape"
   ]
  },
  {
   "cell_type": "code",
   "execution_count": 219,
   "id": "4e26e015-8041-4cbb-9b1b-721240709337",
   "metadata": {
    "tags": []
   },
   "outputs": [
    {
     "data": {
      "text/plain": [
       "3912"
      ]
     },
     "execution_count": 219,
     "metadata": {},
     "output_type": "execute_result"
    }
   ],
   "source": [
    "subscrapes['subreddit'].value_counts().sum()"
   ]
  },
  {
   "cell_type": "code",
   "execution_count": 224,
   "id": "8e2b24ff-7171-4221-9a79-77fb5dc4cc78",
   "metadata": {
    "tags": []
   },
   "outputs": [
    {
     "data": {
      "text/plain": [
       "subreddit\n",
       "cycling    2054\n",
       "pilates    1858\n",
       "Name: count, dtype: int64"
      ]
     },
     "execution_count": 224,
     "metadata": {},
     "output_type": "execute_result"
    }
   ],
   "source": [
    "subscrapes['subreddit'].value_counts().sort_index()"
   ]
  },
  {
   "cell_type": "code",
   "execution_count": 225,
   "id": "ac550316-b7b7-4907-a029-f480c41d47b9",
   "metadata": {
    "tags": []
   },
   "outputs": [
    {
     "data": {
      "text/plain": [
       "created_utc     float64\n",
       "title            object\n",
       "self_text        object\n",
       "subreddit        object\n",
       "utc_datetime     object\n",
       "dtype: object"
      ]
     },
     "execution_count": 225,
     "metadata": {},
     "output_type": "execute_result"
    }
   ],
   "source": [
    "subscrapes.dtypes"
   ]
  },
  {
   "cell_type": "code",
   "execution_count": 239,
   "id": "4a75e1d6-e04a-422e-acd5-dd373fa7d75f",
   "metadata": {
    "tags": []
   },
   "outputs": [],
   "source": [
    "df4 = df4.drop_duplicates()"
   ]
  },
  {
   "cell_type": "code",
   "execution_count": 243,
   "id": "5eb0d5a9-0d7b-479c-a90b-9ed684f4f26d",
   "metadata": {
    "tags": []
   },
   "outputs": [
    {
     "data": {
      "text/html": [
       "<div>\n",
       "<style scoped>\n",
       "    .dataframe tbody tr th:only-of-type {\n",
       "        vertical-align: middle;\n",
       "    }\n",
       "\n",
       "    .dataframe tbody tr th {\n",
       "        vertical-align: top;\n",
       "    }\n",
       "\n",
       "    .dataframe thead th {\n",
       "        text-align: right;\n",
       "    }\n",
       "</style>\n",
       "<table border=\"1\" class=\"dataframe\">\n",
       "  <thead>\n",
       "    <tr style=\"text-align: right;\">\n",
       "      <th></th>\n",
       "      <th>created_utc</th>\n",
       "      <th>title</th>\n",
       "      <th>self_text</th>\n",
       "      <th>subreddit</th>\n",
       "      <th>utc_datetime</th>\n",
       "    </tr>\n",
       "  </thead>\n",
       "  <tbody>\n",
       "    <tr>\n",
       "      <th>0</th>\n",
       "      <td>1709156913</td>\n",
       "      <td>Should Racers shave their heads?</td>\n",
       "      <td>During the 2023 Tour De France, several of the...</td>\n",
       "      <td>cycling</td>\n",
       "      <td>2024-02-28 21:20:22</td>\n",
       "    </tr>\n",
       "    <tr>\n",
       "      <th>1</th>\n",
       "      <td>1709156619</td>\n",
       "      <td>Long distance ride advice</td>\n",
       "      <td>Fellow humans,\\n\\nI am planning a long distanc...</td>\n",
       "      <td>cycling</td>\n",
       "      <td>2024-02-28 21:12:03</td>\n",
       "    </tr>\n",
       "    <tr>\n",
       "      <th>2</th>\n",
       "      <td>1709155222</td>\n",
       "      <td>Need help picking a new bike</td>\n",
       "      <td>I'll be using the bike to go to and from work ...</td>\n",
       "      <td>cycling</td>\n",
       "      <td>2024-02-28 20:49:34</td>\n",
       "    </tr>\n",
       "    <tr>\n",
       "      <th>3</th>\n",
       "      <td>1709154723</td>\n",
       "      <td>I hear a somewhat load clicking sound coming f...</td>\n",
       "      <td>It is usually only when im on the bike, i dont...</td>\n",
       "      <td>cycling</td>\n",
       "      <td>2024-02-28 20:28:24</td>\n",
       "    </tr>\n",
       "    <tr>\n",
       "      <th>4</th>\n",
       "      <td>1709153374</td>\n",
       "      <td>Carbon wheel set upgrade</td>\n",
       "      <td>I own Scott gravel speedster 30. I want to upg...</td>\n",
       "      <td>cycling</td>\n",
       "      <td>2024-02-28 20:12:40</td>\n",
       "    </tr>\n",
       "  </tbody>\n",
       "</table>\n",
       "</div>"
      ],
      "text/plain": [
       "   created_utc                                              title  \\\n",
       "0   1709156913                   Should Racers shave their heads?   \n",
       "1   1709156619                          Long distance ride advice   \n",
       "2   1709155222                       Need help picking a new bike   \n",
       "3   1709154723  I hear a somewhat load clicking sound coming f...   \n",
       "4   1709153374                           Carbon wheel set upgrade   \n",
       "\n",
       "                                           self_text subreddit  \\\n",
       "0  During the 2023 Tour De France, several of the...   cycling   \n",
       "1  Fellow humans,\\n\\nI am planning a long distanc...   cycling   \n",
       "2  I'll be using the bike to go to and from work ...   cycling   \n",
       "3  It is usually only when im on the bike, i dont...   cycling   \n",
       "4  I own Scott gravel speedster 30. I want to upg...   cycling   \n",
       "\n",
       "          utc_datetime  \n",
       "0  2024-02-28 21:20:22  \n",
       "1  2024-02-28 21:12:03  \n",
       "2  2024-02-28 20:49:34  \n",
       "3  2024-02-28 20:28:24  \n",
       "4  2024-02-28 20:12:40  "
      ]
     },
     "execution_count": 243,
     "metadata": {},
     "output_type": "execute_result"
    }
   ],
   "source": [
    "df4.head(5)"
   ]
  },
  {
   "cell_type": "code",
   "execution_count": 241,
   "id": "4361b098-ffa0-4a19-be56-f29c4ec30945",
   "metadata": {
    "tags": []
   },
   "outputs": [
    {
     "data": {
      "text/plain": [
       "(9661, 5)"
      ]
     },
     "execution_count": 241,
     "metadata": {},
     "output_type": "execute_result"
    }
   ],
   "source": [
    "df4.drop_duplicates().shape"
   ]
  },
  {
   "cell_type": "code",
   "execution_count": 242,
   "id": "6dd7cc9a-757b-4ff9-b45f-e9dde4309409",
   "metadata": {
    "tags": []
   },
   "outputs": [],
   "source": [
    "df4.to_csv('data/bigscrape.csv', index=False)"
   ]
  },
  {
   "cell_type": "code",
   "execution_count": null,
   "id": "a7f1bf5b-fb6e-41b1-bddd-79b9ab886dd0",
   "metadata": {},
   "outputs": [],
   "source": []
  },
  {
   "cell_type": "code",
   "execution_count": null,
   "id": "908582cb-66e1-4037-8986-e0fc95f8c138",
   "metadata": {},
   "outputs": [],
   "source": []
  },
  {
   "cell_type": "code",
   "execution_count": null,
   "id": "1f2f5939-4d53-4e13-9f60-fff1eeb2db1c",
   "metadata": {},
   "outputs": [],
   "source": []
  },
  {
   "cell_type": "code",
   "execution_count": null,
   "id": "1a9e2fab-def2-4515-8b9f-200d2b1e144a",
   "metadata": {},
   "outputs": [],
   "source": []
  },
  {
   "cell_type": "code",
   "execution_count": null,
   "id": "b3a91bfb-064d-4c84-8551-87cb053f4d93",
   "metadata": {},
   "outputs": [],
   "source": []
  },
  {
   "cell_type": "code",
   "execution_count": null,
   "id": "f425017e-5355-4dec-96ea-12cdedfe3692",
   "metadata": {},
   "outputs": [],
   "source": []
  },
  {
   "cell_type": "code",
   "execution_count": null,
   "id": "5e09b7f6-9539-4c0d-b05d-6eb8c6249f7a",
   "metadata": {},
   "outputs": [],
   "source": []
  },
  {
   "cell_type": "code",
   "execution_count": null,
   "id": "e5713807-f745-4eed-aacc-9d7904fcb1e4",
   "metadata": {},
   "outputs": [],
   "source": []
  },
  {
   "cell_type": "code",
   "execution_count": null,
   "id": "9d892899-b40d-497f-8b7c-18e672083b6a",
   "metadata": {},
   "outputs": [],
   "source": []
  },
  {
   "cell_type": "code",
   "execution_count": null,
   "id": "0b1123b5-24ae-4a9d-8e03-f39d291aa6f9",
   "metadata": {},
   "outputs": [],
   "source": []
  },
  {
   "cell_type": "code",
   "execution_count": null,
   "id": "791b3331-6efd-44ea-bf8c-47195056caa9",
   "metadata": {},
   "outputs": [],
   "source": []
  }
 ],
 "metadata": {
  "kernelspec": {
   "display_name": "Python 3 (ipykernel)",
   "language": "python",
   "name": "python3"
  },
  "language_info": {
   "codemirror_mode": {
    "name": "ipython",
    "version": 3
   },
   "file_extension": ".py",
   "mimetype": "text/x-python",
   "name": "python",
   "nbconvert_exporter": "python",
   "pygments_lexer": "ipython3",
   "version": "3.11.5"
  }
 },
 "nbformat": 4,
 "nbformat_minor": 5
}
