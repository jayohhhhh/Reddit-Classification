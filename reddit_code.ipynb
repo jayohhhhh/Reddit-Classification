{
 "cells": [
  {
   "cell_type": "code",
   "execution_count": 108,
   "id": "9add963a-bda2-4d54-b64c-68455c324599",
   "metadata": {
    "tags": []
   },
   "outputs": [],
   "source": [
    "import praw\n",
    "import pandas as pd\n",
    "import numpy as np\n",
    "import seaborn as sns\n",
    "import nltk\n",
    "import matplotlib.pyplot as plt\n",
    "\n",
    "from nltk.tokenize import sent_tokenize, word_tokenize, RegexpTokenizer\n",
    "from nltk.stem import PorterStemmer, WordNetLemmatizer\n",
    "from nltk.corpus import stopwords, wordnet\n",
    "from nltk.sentiment.vader import SentimentIntensityAnalyzer\n",
    "\n",
    "from sklearn.preprocessing import StandardScaler\n",
    "from nltk.stem import WordNetLemmatizer\n",
    "from sklearn.model_selection import train_test_split, GridSearchCV, RandomizedSearchCV\n",
    "from sklearn.pipeline import Pipeline\n",
    "from sklearn.naive_bayes import MultinomialNB\n",
    "from sklearn.linear_model import LogisticRegression\n",
    "from sklearn.metrics import confusion_matrix, ConfusionMatrixDisplay\n",
    "from sklearn.feature_extraction.text import CountVectorizer, TfidfVectorizer\n",
    "from sklearn.tree import DecisionTreeClassifier, plot_tree\n",
    "from sklearn.ensemble import BaggingClassifier, VotingClassifier, AdaBoostClassifier, GradientBoostingClassifier, RandomForestClassifier, ExtraTreesClassifier\n",
    "from sklearn.metrics import classification_report"
   ]
  },
  {
   "cell_type": "markdown",
   "id": "2e0ec026-3dac-4a7e-8e57-086705d172fe",
   "metadata": {
    "tags": []
   },
   "source": [
    "# EDA"
   ]
  },
  {
   "cell_type": "code",
   "execution_count": 109,
   "id": "836cb04c-3172-43d9-857e-f0a6ce01c5f8",
   "metadata": {
    "tags": []
   },
   "outputs": [
    {
     "data": {
      "text/plain": [
       "(9661, 5)"
      ]
     },
     "execution_count": 109,
     "metadata": {},
     "output_type": "execute_result"
    }
   ],
   "source": [
    "df = pd.read_csv('C:/Users/james/Documents/GA/Projects/project-3/data/scrape.csv')\n",
    "df.shape"
   ]
  },
  {
   "cell_type": "code",
   "execution_count": 110,
   "id": "cd52d926-188c-4695-86d5-76d04128b91d",
   "metadata": {
    "tags": []
   },
   "outputs": [
    {
     "data": {
      "text/html": [
       "<div>\n",
       "<style scoped>\n",
       "    .dataframe tbody tr th:only-of-type {\n",
       "        vertical-align: middle;\n",
       "    }\n",
       "\n",
       "    .dataframe tbody tr th {\n",
       "        vertical-align: top;\n",
       "    }\n",
       "\n",
       "    .dataframe thead th {\n",
       "        text-align: right;\n",
       "    }\n",
       "</style>\n",
       "<table border=\"1\" class=\"dataframe\">\n",
       "  <thead>\n",
       "    <tr style=\"text-align: right;\">\n",
       "      <th></th>\n",
       "      <th>created_utc</th>\n",
       "      <th>title</th>\n",
       "      <th>self_text</th>\n",
       "      <th>subreddit</th>\n",
       "      <th>utc_datetime</th>\n",
       "    </tr>\n",
       "  </thead>\n",
       "  <tbody>\n",
       "    <tr>\n",
       "      <th>0</th>\n",
       "      <td>1.709157e+09</td>\n",
       "      <td>Should Racers shave their heads?</td>\n",
       "      <td>During the 2023 Tour De France, several of the...</td>\n",
       "      <td>cycling</td>\n",
       "      <td>2024-02-28 21:20:22</td>\n",
       "    </tr>\n",
       "    <tr>\n",
       "      <th>1</th>\n",
       "      <td>1.709157e+09</td>\n",
       "      <td>Long distance ride advice</td>\n",
       "      <td>Fellow humans,\\n\\nI am planning a long distanc...</td>\n",
       "      <td>cycling</td>\n",
       "      <td>2024-02-28 21:12:03</td>\n",
       "    </tr>\n",
       "    <tr>\n",
       "      <th>2</th>\n",
       "      <td>1.709155e+09</td>\n",
       "      <td>Need help picking a new bike</td>\n",
       "      <td>I'll be using the bike to go to and from work ...</td>\n",
       "      <td>cycling</td>\n",
       "      <td>2024-02-28 20:49:34</td>\n",
       "    </tr>\n",
       "  </tbody>\n",
       "</table>\n",
       "</div>"
      ],
      "text/plain": [
       "    created_utc                             title  \\\n",
       "0  1.709157e+09  Should Racers shave their heads?   \n",
       "1  1.709157e+09         Long distance ride advice   \n",
       "2  1.709155e+09      Need help picking a new bike   \n",
       "\n",
       "                                           self_text subreddit  \\\n",
       "0  During the 2023 Tour De France, several of the...   cycling   \n",
       "1  Fellow humans,\\n\\nI am planning a long distanc...   cycling   \n",
       "2  I'll be using the bike to go to and from work ...   cycling   \n",
       "\n",
       "          utc_datetime  \n",
       "0  2024-02-28 21:20:22  \n",
       "1  2024-02-28 21:12:03  \n",
       "2  2024-02-28 20:49:34  "
      ]
     },
     "execution_count": 110,
     "metadata": {},
     "output_type": "execute_result"
    }
   ],
   "source": [
    "df.head(3)"
   ]
  },
  {
   "cell_type": "code",
   "execution_count": 111,
   "id": "b162a5a2-fcb4-4497-ab30-63c9f330782d",
   "metadata": {
    "tags": []
   },
   "outputs": [
    {
     "data": {
      "text/html": [
       "<div>\n",
       "<style scoped>\n",
       "    .dataframe tbody tr th:only-of-type {\n",
       "        vertical-align: middle;\n",
       "    }\n",
       "\n",
       "    .dataframe tbody tr th {\n",
       "        vertical-align: top;\n",
       "    }\n",
       "\n",
       "    .dataframe thead th {\n",
       "        text-align: right;\n",
       "    }\n",
       "</style>\n",
       "<table border=\"1\" class=\"dataframe\">\n",
       "  <thead>\n",
       "    <tr style=\"text-align: right;\">\n",
       "      <th></th>\n",
       "      <th>created_utc</th>\n",
       "      <th>title</th>\n",
       "      <th>self_text</th>\n",
       "      <th>subreddit</th>\n",
       "      <th>utc_datetime</th>\n",
       "    </tr>\n",
       "  </thead>\n",
       "  <tbody>\n",
       "    <tr>\n",
       "      <th>6618</th>\n",
       "      <td>1.708016e+09</td>\n",
       "      <td>Upgrade question</td>\n",
       "      <td>Hey everyone! \\n\\nQuick question - a few years...</td>\n",
       "      <td>cycling</td>\n",
       "      <td>2024-02-15 16:52:49</td>\n",
       "    </tr>\n",
       "    <tr>\n",
       "      <th>6301</th>\n",
       "      <td>1.708453e+09</td>\n",
       "      <td>Tubeless and punctures - should I blame my tires</td>\n",
       "      <td>I get a lot of punctures in my tires. Like onc...</td>\n",
       "      <td>cycling</td>\n",
       "      <td>2024-02-20 18:12:42</td>\n",
       "    </tr>\n",
       "    <tr>\n",
       "      <th>4847</th>\n",
       "      <td>1.613483e+09</td>\n",
       "      <td>Just started Pilates. My puppy wants to join i...</td>\n",
       "      <td>NaN</td>\n",
       "      <td>pilates</td>\n",
       "      <td>2021-02-16 13:49:20</td>\n",
       "    </tr>\n",
       "    <tr>\n",
       "      <th>5802</th>\n",
       "      <td>1.709105e+09</td>\n",
       "      <td>Powermeter Pedals - Single our Double</td>\n",
       "      <td>Hi all,\\n\\nI’m contemplating to upgrade my roa...</td>\n",
       "      <td>cycling</td>\n",
       "      <td>2024-02-28 07:20:42</td>\n",
       "    </tr>\n",
       "    <tr>\n",
       "      <th>6059</th>\n",
       "      <td>1.708796e+09</td>\n",
       "      <td>Simple, reliable app to control indoor trainer?</td>\n",
       "      <td>I have a JetBlack Volt2 that I am controlling ...</td>\n",
       "      <td>cycling</td>\n",
       "      <td>2024-02-24 17:39:20</td>\n",
       "    </tr>\n",
       "  </tbody>\n",
       "</table>\n",
       "</div>"
      ],
      "text/plain": [
       "       created_utc                                              title  \\\n",
       "6618  1.708016e+09                                  Upgrade question    \n",
       "6301  1.708453e+09   Tubeless and punctures - should I blame my tires   \n",
       "4847  1.613483e+09  Just started Pilates. My puppy wants to join i...   \n",
       "5802  1.709105e+09              Powermeter Pedals - Single our Double   \n",
       "6059  1.708796e+09    Simple, reliable app to control indoor trainer?   \n",
       "\n",
       "                                              self_text subreddit  \\\n",
       "6618  Hey everyone! \\n\\nQuick question - a few years...   cycling   \n",
       "6301  I get a lot of punctures in my tires. Like onc...   cycling   \n",
       "4847                                                NaN   pilates   \n",
       "5802  Hi all,\\n\\nI’m contemplating to upgrade my roa...   cycling   \n",
       "6059  I have a JetBlack Volt2 that I am controlling ...   cycling   \n",
       "\n",
       "             utc_datetime  \n",
       "6618  2024-02-15 16:52:49  \n",
       "6301  2024-02-20 18:12:42  \n",
       "4847  2021-02-16 13:49:20  \n",
       "5802  2024-02-28 07:20:42  \n",
       "6059  2024-02-24 17:39:20  "
      ]
     },
     "execution_count": 111,
     "metadata": {},
     "output_type": "execute_result"
    }
   ],
   "source": [
    "# identified samples with irelevant charachters such as \"\\n\" e.g. that need to be removed\n",
    "df.sample(5)"
   ]
  },
  {
   "cell_type": "code",
   "execution_count": 112,
   "id": "486adf2e-50a2-4da0-8b20-3ac56c97811c",
   "metadata": {
    "tags": []
   },
   "outputs": [
    {
     "data": {
      "text/html": [
       "<div>\n",
       "<style scoped>\n",
       "    .dataframe tbody tr th:only-of-type {\n",
       "        vertical-align: middle;\n",
       "    }\n",
       "\n",
       "    .dataframe tbody tr th {\n",
       "        vertical-align: top;\n",
       "    }\n",
       "\n",
       "    .dataframe thead th {\n",
       "        text-align: right;\n",
       "    }\n",
       "</style>\n",
       "<table border=\"1\" class=\"dataframe\">\n",
       "  <thead>\n",
       "    <tr style=\"text-align: right;\">\n",
       "      <th></th>\n",
       "      <th>created_utc</th>\n",
       "      <th>title</th>\n",
       "      <th>self_text</th>\n",
       "      <th>subreddit</th>\n",
       "      <th>utc_datetime</th>\n",
       "    </tr>\n",
       "  </thead>\n",
       "  <tbody>\n",
       "    <tr>\n",
       "      <th>0</th>\n",
       "      <td>1.709157e+09</td>\n",
       "      <td>Should Racers shave their heads?</td>\n",
       "      <td>During the 2023 Tour De France, several of the...</td>\n",
       "      <td>cycling</td>\n",
       "      <td>2024-02-28 21:20:22</td>\n",
       "    </tr>\n",
       "    <tr>\n",
       "      <th>1</th>\n",
       "      <td>1.709157e+09</td>\n",
       "      <td>Long distance ride advice</td>\n",
       "      <td>Fellow humans,\\n\\nI am planning a long distanc...</td>\n",
       "      <td>cycling</td>\n",
       "      <td>2024-02-28 21:12:03</td>\n",
       "    </tr>\n",
       "    <tr>\n",
       "      <th>2</th>\n",
       "      <td>1.709155e+09</td>\n",
       "      <td>Need help picking a new bike</td>\n",
       "      <td>I'll be using the bike to go to and from work ...</td>\n",
       "      <td>cycling</td>\n",
       "      <td>2024-02-28 20:49:34</td>\n",
       "    </tr>\n",
       "  </tbody>\n",
       "</table>\n",
       "</div>"
      ],
      "text/plain": [
       "    created_utc                             title  \\\n",
       "0  1.709157e+09  Should Racers shave their heads?   \n",
       "1  1.709157e+09         Long distance ride advice   \n",
       "2  1.709155e+09      Need help picking a new bike   \n",
       "\n",
       "                                           self_text subreddit  \\\n",
       "0  During the 2023 Tour De France, several of the...   cycling   \n",
       "1  Fellow humans,\\n\\nI am planning a long distanc...   cycling   \n",
       "2  I'll be using the bike to go to and from work ...   cycling   \n",
       "\n",
       "          utc_datetime  \n",
       "0  2024-02-28 21:20:22  \n",
       "1  2024-02-28 21:12:03  \n",
       "2  2024-02-28 20:49:34  "
      ]
     },
     "execution_count": 112,
     "metadata": {},
     "output_type": "execute_result"
    }
   ],
   "source": [
    "df.head(3)"
   ]
  },
  {
   "cell_type": "code",
   "execution_count": 113,
   "id": "f5c93d69-9ee2-49d5-ae7e-5f913c2a16f7",
   "metadata": {
    "tags": []
   },
   "outputs": [
    {
     "data": {
      "image/png": "[encoded data removed]",
      "text/plain": [
       "<Figure size 640x480 with 1 Axes>"
      ]
     },
     "metadata": {},
     "output_type": "display_data"
    }
   ],
   "source": [
    "# plot the count of posts within each subreddit\n",
    "subreddit_counts = df['subreddit'].value_counts()\n",
    "subreddit_counts.plot(kind='bar', color='skyblue')\n",
    "plt.xlabel('Subreddit')\n",
    "plt.ylabel('Frequency')\n",
    "plt.title('Distribution of Subreddits')\n",
    "plt.xticks(rotation=0);\n",
    "# plt.savefig('images/Distribution of subreddit posts.png');"
   ]
  },
  {
   "cell_type": "markdown",
   "id": "79749aa6-8375-437b-917a-9c08313a3ac4",
   "metadata": {
    "tags": []
   },
   "source": [
    "## Cleaning"
   ]
  },
  {
   "cell_type": "code",
   "execution_count": 114,
   "id": "46a7d32f-4a02-4729-b2ca-e4d5f692f6a9",
   "metadata": {
    "tags": []
   },
   "outputs": [
    {
     "data": {
      "text/plain": [
       "(7717, 5)"
      ]
     },
     "execution_count": 114,
     "metadata": {},
     "output_type": "execute_result"
    }
   ],
   "source": [
    "# drop duplicate text to avoid inaccurate data predictions\n",
    "df = df.drop_duplicates()\n",
    "df.shape"
   ]
  },
  {
   "cell_type": "code",
   "execution_count": 115,
   "id": "c6ba4825-0145-4761-b4f8-796a916c8dc0",
   "metadata": {
    "tags": []
   },
   "outputs": [],
   "source": [
    "# created binaries out of subreddit column\n",
    "df['subreddit'] = np.where(df['subreddit'] == 'cycling', 0, 1)"
   ]
  },
  {
   "cell_type": "code",
   "execution_count": 116,
   "id": "7e412e43-5263-4d4e-8c4e-60a12502014c",
   "metadata": {
    "tags": []
   },
   "outputs": [],
   "source": [
    "# dropped unnecessary columns\n",
    "df = df.drop(columns=['created_utc', 'utc_datetime', 'title'], axis=1)"
   ]
  },
  {
   "cell_type": "code",
   "execution_count": 117,
   "id": "2682a09c-f683-4c97-98a8-a8615ea38455",
   "metadata": {
    "tags": []
   },
   "outputs": [
    {
     "data": {
      "text/plain": [
       "subreddit\n",
       "0    3925\n",
       "1    3792\n",
       "Name: count, dtype: int64"
      ]
     },
     "execution_count": 117,
     "metadata": {},
     "output_type": "execute_result"
    }
   ],
   "source": [
    "# check for class imbalance\n",
    "df['subreddit'].value_counts().sort_index()"
   ]
  },
  {
   "cell_type": "code",
   "execution_count": 118,
   "id": "35dcbe96-de8f-4412-8b18-a757948589b9",
   "metadata": {},
   "outputs": [],
   "source": [
    "# IMPUTED 508 out of 7717 NANs\n",
    "df.dropna(subset=['self_text'], inplace=True)"
   ]
  },
  {
   "cell_type": "code",
   "execution_count": 119,
   "id": "bcb5b981-a8db-4375-88b6-469729d312ba",
   "metadata": {
    "tags": []
   },
   "outputs": [],
   "source": [
    "# Remove newline characters (\\n) from text_column\n",
    "df['self_text'] = df['self_text'].str.replace('\\n', '')"
   ]
  },
  {
   "cell_type": "code",
   "execution_count": 120,
   "id": "41fd5f34-771b-4a4d-9b55-dd5c683ea53b",
   "metadata": {},
   "outputs": [
    {
     "data": {
      "text/plain": [
       "0"
      ]
     },
     "execution_count": 120,
     "metadata": {},
     "output_type": "execute_result"
    }
   ],
   "source": [
    "# confirm if any NANs in dataframe\n",
    "df['self_text'].isna().sum()"
   ]
  },
  {
   "cell_type": "code",
   "execution_count": 121,
   "id": "e8b43709-b400-4b20-b0aa-c42c506f9054",
   "metadata": {},
   "outputs": [
    {
     "data": {
      "text/plain": [
       "0"
      ]
     },
     "execution_count": 121,
     "metadata": {},
     "output_type": "execute_result"
    }
   ],
   "source": [
    "# confirm if any nulls in dataframe\n",
    "df['self_text'].isna().sum()"
   ]
  },
  {
   "cell_type": "code",
   "execution_count": 122,
   "id": "38e177f5-ce06-4fb4-a1b0-683690a7e276",
   "metadata": {
    "tags": []
   },
   "outputs": [
    {
     "data": {
      "text/html": [
       "<div>\n",
       "<style scoped>\n",
       "    .dataframe tbody tr th:only-of-type {\n",
       "        vertical-align: middle;\n",
       "    }\n",
       "\n",
       "    .dataframe tbody tr th {\n",
       "        vertical-align: top;\n",
       "    }\n",
       "\n",
       "    .dataframe thead th {\n",
       "        text-align: right;\n",
       "    }\n",
       "</style>\n",
       "<table border=\"1\" class=\"dataframe\">\n",
       "  <thead>\n",
       "    <tr style=\"text-align: right;\">\n",
       "      <th></th>\n",
       "      <th>self_text</th>\n",
       "      <th>subreddit</th>\n",
       "    </tr>\n",
       "  </thead>\n",
       "  <tbody>\n",
       "    <tr>\n",
       "      <th>6653</th>\n",
       "      <td>Picked up my bike from the Trek shop. They sai...</td>\n",
       "      <td>0</td>\n",
       "    </tr>\n",
       "    <tr>\n",
       "      <th>3916</th>\n",
       "      <td>Is pilates enough to sculpt your body or shoul...</td>\n",
       "      <td>1</td>\n",
       "    </tr>\n",
       "  </tbody>\n",
       "</table>\n",
       "</div>"
      ],
      "text/plain": [
       "                                              self_text  subreddit\n",
       "6653  Picked up my bike from the Trek shop. They sai...          0\n",
       "3916  Is pilates enough to sculpt your body or shoul...          1"
      ]
     },
     "execution_count": 122,
     "metadata": {},
     "output_type": "execute_result"
    }
   ],
   "source": [
    "df.sample(2)"
   ]
  },
  {
   "cell_type": "code",
   "execution_count": 123,
   "id": "fc719420-31db-4aa8-9e36-dc73559613b1",
   "metadata": {
    "tags": []
   },
   "outputs": [],
   "source": [
    "# Save cleaned dataframe as CSV\n",
    "# df.to_csv('data/cleaned_df.csv', index=False)"
   ]
  },
  {
   "cell_type": "code",
   "execution_count": 124,
   "id": "c3c6d220-4d95-40d6-bf18-68debe01e6d4",
   "metadata": {
    "tags": []
   },
   "outputs": [],
   "source": [
    "# read in the clean csv for NLP\n",
    "# df = pd.read_csv('data/cleaned_df.csv')"
   ]
  },
  {
   "cell_type": "markdown",
   "id": "5a40c1f3-da38-48c1-a383-14c91ec0861a",
   "metadata": {},
   "source": [
    "# Pre-Processing & NLP"
   ]
  },
  {
   "cell_type": "code",
   "execution_count": 125,
   "id": "aeb2ec15-55cc-4da6-95b0-1e921a3fa91c",
   "metadata": {
    "tags": []
   },
   "outputs": [
    {
     "name": "stdout",
     "output_type": "stream",
     "text": [
      "(7209,)\n",
      "(7209,)\n"
     ]
    }
   ],
   "source": [
    "X = df['self_text']\n",
    "y = df['subreddit']\n",
    "print(X.shape)\n",
    "print(y.shape)"
   ]
  },
  {
   "cell_type": "code",
   "execution_count": 126,
   "id": "416cc66c-4e68-4238-9aa7-eb7a86003797",
   "metadata": {
    "tags": []
   },
   "outputs": [],
   "source": [
    "X_train, X_test, y_train, y_test = train_test_split(X, y, random_state=42)"
   ]
  },
  {
   "cell_type": "code",
   "execution_count": 127,
   "id": "ba0ffe2c-3f32-4659-8d3e-23f003a51adb",
   "metadata": {
    "tags": []
   },
   "outputs": [],
   "source": [
    "cvec = CountVectorizer(stop_words= 'english')\n",
    "cvec.fit(X_train)\n",
    "X_train_cvec = cvec.transform(X_train)\n",
    "X_test_cvec = cvec.transform(X_test)"
   ]
  },
  {
   "cell_type": "code",
   "execution_count": 128,
   "id": "46750b36-ebdc-46f0-9c18-675697f51da0",
   "metadata": {
    "tags": []
   },
   "outputs": [],
   "source": [
    "X_train_df = pd.DataFrame(X_train_cvec.todense(), columns=cvec.get_feature_names_out())"
   ]
  },
  {
   "cell_type": "code",
   "execution_count": 129,
   "id": "923f814e-0d29-450c-9760-f48164b632ea",
   "metadata": {
    "tags": []
   },
   "outputs": [
    {
     "data": {
      "text/plain": [
       "array(['delayed', 'delays', 'delete', 'deleted', 'deliberate',\n",
       "       'deliberately', 'deliberating', 'delicate', 'delicious',\n",
       "       'delighted', 'deliver', 'delivered', 'deliverer', 'delivering',\n",
       "       'deliveroo', 'delivery', 'delta', 'delulu', 'delusions', 'delved',\n",
       "       'demand', 'demand13', 'demand14', 'demanded', 'demanding',\n",
       "       'demands', 'demandware', 'demeanor', 'dementia', 'demo',\n",
       "       'demographic', 'demoing', 'demolished', 'demons', 'demonstrate',\n",
       "       'demonstrating', 'demoralized', 'demos', 'denmark', 'dennison',\n",
       "       'dense', 'density', 'dental', 'dented', 'dentist', 'dents',\n",
       "       'denver', 'denverpost', 'deny', 'deodorant'], dtype=object)"
      ]
     },
     "execution_count": 129,
     "metadata": {},
     "output_type": "execute_result"
    }
   ],
   "source": [
    "cvec.get_feature_names_out()[5050:5100]"
   ]
  },
  {
   "cell_type": "code",
   "execution_count": 183,
   "id": "eaf57095-4b7b-4b49-9224-db3281a19aa7",
   "metadata": {
    "tags": []
   },
   "outputs": [
    {
     "data": {
      "image/png": "[encoded data removed]",
      "text/plain": [
       "<Figure size 640x480 with 1 Axes>"
      ]
     },
     "metadata": {},
     "output_type": "display_data"
    }
   ],
   "source": [
    "# top occuring words with stop words removed\n",
    "# NOTE: Top words are \"bike\" & \"pilates\"\n",
    "X_train_df.sum().sort_values(ascending = False).head(10).plot(kind = 'barh', color='skyblue');\n",
    "plt.xlabel('Word Count')\n",
    "plt.ylabel('Word')\n",
    "plt.title('Top 10 Most Occurring Words');\n",
    "plt.savefig('Images/most-occurring-words.png')\n",
    "# source: NLP II Lesson"
   ]
  },
  {
   "cell_type": "code",
   "execution_count": 131,
   "id": "146442b7-6ee9-426f-85b8-02d2c77a7678",
   "metadata": {
    "tags": []
   },
   "outputs": [
    {
     "data": {
      "text/plain": [
       "((5406,), (1803,))"
      ]
     },
     "execution_count": 131,
     "metadata": {},
     "output_type": "execute_result"
    }
   ],
   "source": [
    "X_train.shape, X_test.shape"
   ]
  },
  {
   "cell_type": "code",
   "execution_count": 132,
   "id": "9e283aec-a36d-4b42-ac44-db6b669840ab",
   "metadata": {
    "tags": []
   },
   "outputs": [],
   "source": [
    "cvec = CountVectorizer(stop_words= 'english', ngram_range=(2, 2))\n",
    "cvec.fit(X_train)\n",
    "X_train_bigram_cvec = cvec.transform(X_train)\n",
    "X_test_bigram_cvec = cvec.transform(X_test)\n",
    "X_train_bigram_df = pd.DataFrame(X_train_bigram_cvec.todense(), columns=cvec.get_feature_names_out())"
   ]
  },
  {
   "cell_type": "code",
   "execution_count": 185,
   "id": "0f9a52cc-b086-4b79-81af-4848c411f5e6",
   "metadata": {
    "tags": []
   },
   "outputs": [
    {
     "data": {
      "image/png": "[encoded data removed]",
      "text/plain": [
       "<Figure size 640x480 with 1 Axes>"
      ]
     },
     "metadata": {},
     "output_type": "display_data"
    }
   ],
   "source": [
    "# top occuring words with stop words removed\n",
    "X_train_bigram_df.sum().sort_values(ascending = False).head(10).plot(kind = 'barh', color='skyblue');\n",
    "plt.xlabel('Bi-gram Count')\n",
    "plt.ylabel('Bi-gram')\n",
    "plt.title('Top 10 Most Occurring Bi-grams');\n",
    "plt.savefig('Images/most-occurring-bigrams.png');\n",
    "# source: NLP II Lesson"
   ]
  },
  {
   "cell_type": "code",
   "execution_count": 134,
   "id": "d7bb8325-c3fd-47f7-b07b-db40fd7625e6",
   "metadata": {
    "tags": []
   },
   "outputs": [
    {
     "data": {
      "text/plain": [
       "array(['access zip', 'accessibility pilates', 'accessible able',\n",
       "       'accessible black', 'accessible didn', 'accessible majority',\n",
       "       'accessible possible', 'accessible train', 'accessible water',\n",
       "       'accessoires pour', 'accessories allegro',\n",
       "       'accessories attachment', 'accessories cycling',\n",
       "       'accessories fenders', 'accessories help', 'accessories https',\n",
       "       'accessories moon', 'accessories really', 'accessories wayfarer',\n",
       "       'accessory chair', 'accessory work', 'accident 15',\n",
       "       'accident accident', 'accident aggressive', 'accident assuming',\n",
       "       'accident bike', 'accident calling', 'accident came',\n",
       "       'accident did', 'accident didn', 'accident does',\n",
       "       'accident driver', 'accident dying', 'accident edge',\n",
       "       'accident emergency', 'accident fact', 'accident happened',\n",
       "       'accident help', 'accident highway', 'accident https',\n",
       "       'accident injury', 'accident intermediate', 'accident involving',\n",
       "       'accident july', 'accident kid', 'accident kinda',\n",
       "       'accident occurring', 'accident overly', 'accident petition',\n",
       "       'accident problem'], dtype=object)"
      ]
     },
     "execution_count": 134,
     "metadata": {},
     "output_type": "execute_result"
    }
   ],
   "source": [
    "cvec.get_feature_names_out()[5000:5050]"
   ]
  },
  {
   "cell_type": "code",
   "execution_count": 135,
   "id": "730f80dc-8813-441c-b731-55f872fe3369",
   "metadata": {
    "tags": []
   },
   "outputs": [
    {
     "data": {
      "text/html": [
       "<div>\n",
       "<style scoped>\n",
       "    .dataframe tbody tr th:only-of-type {\n",
       "        vertical-align: middle;\n",
       "    }\n",
       "\n",
       "    .dataframe tbody tr th {\n",
       "        vertical-align: top;\n",
       "    }\n",
       "\n",
       "    .dataframe thead th {\n",
       "        text-align: right;\n",
       "    }\n",
       "</style>\n",
       "<table border=\"1\" class=\"dataframe\">\n",
       "  <thead>\n",
       "    <tr style=\"text-align: right;\">\n",
       "      <th></th>\n",
       "      <th>self_text</th>\n",
       "      <th>subreddit</th>\n",
       "    </tr>\n",
       "  </thead>\n",
       "  <tbody>\n",
       "    <tr>\n",
       "      <th>0</th>\n",
       "      <td>During the 2023 Tour De France, several of the...</td>\n",
       "      <td>0</td>\n",
       "    </tr>\n",
       "    <tr>\n",
       "      <th>1</th>\n",
       "      <td>Fellow humans,I am planning a long distance bi...</td>\n",
       "      <td>0</td>\n",
       "    </tr>\n",
       "  </tbody>\n",
       "</table>\n",
       "</div>"
      ],
      "text/plain": [
       "                                           self_text  subreddit\n",
       "0  During the 2023 Tour De France, several of the...          0\n",
       "1  Fellow humans,I am planning a long distance bi...          0"
      ]
     },
     "execution_count": 135,
     "metadata": {},
     "output_type": "execute_result"
    }
   ],
   "source": [
    "df.head(2)"
   ]
  },
  {
   "cell_type": "code",
   "execution_count": 136,
   "id": "11e09d80-318d-41b5-90b7-770bb8040ae5",
   "metadata": {
    "tags": []
   },
   "outputs": [],
   "source": [
    "#function to lemmatize each word in our dataframe\n",
    "def lemmatize_post(post):\n",
    "    # split into words\n",
    "    split_post = post.split()\n",
    "    # instantiate lemmatizer\n",
    "    lemmatizer = WordNetLemmatizer()\n",
    "    # lemmatize and rejoin\n",
    "    return \" \".join([lemmatizer.lemmatize(word) for word in split_post])\n",
    "# source cited: NLP II lesson"
   ]
  },
  {
   "cell_type": "code",
   "execution_count": 137,
   "id": "27ea7227-6f3f-47b9-86ff-5326f82184fd",
   "metadata": {
    "tags": []
   },
   "outputs": [
    {
     "data": {
      "text/plain": [
       "'bike study bike pilate pilate weight weight the for an test ride biking'"
      ]
     },
     "execution_count": 137,
     "metadata": {},
     "output_type": "execute_result"
    }
   ],
   "source": [
    "# test lemmatizer function\n",
    "lemmatize_post('bike studies bikes pilate pilates weight weights the for an test rides biking')"
   ]
  },
  {
   "cell_type": "code",
   "execution_count": 138,
   "id": "32bf7db3-c0c6-45be-99b8-dfaa66a82984",
   "metadata": {
    "tags": []
   },
   "outputs": [],
   "source": [
    "# function to stem each word in our dataframe\n",
    "def stem_post(post):\n",
    "    # split into words\n",
    "    split_post = post.split()\n",
    "    #instantiate stemmer\n",
    "    p_stemmer = PorterStemmer()\n",
    "    # stem and rejoin\n",
    "    return ' '.join([p_stemmer.stem(word) for word in split_post])\n",
    "# source cited: NLP II lesson"
   ]
  },
  {
   "cell_type": "code",
   "execution_count": 139,
   "id": "3261895c-8705-4e67-aac1-a85bdaf1bb63",
   "metadata": {
    "tags": []
   },
   "outputs": [
    {
     "data": {
      "text/plain": [
       "'bike studi bike pilat pilat weight weight the for an test ride bike'"
      ]
     },
     "execution_count": 139,
     "metadata": {},
     "output_type": "execute_result"
    }
   ],
   "source": [
    "# test stemming function\n",
    "stem_post('bike studies bikes pilate pilates weight weights the for an test rides biking')"
   ]
  },
  {
   "cell_type": "markdown",
   "id": "ab9c98df-dc6c-4c6f-aff6-182f47f9a485",
   "metadata": {},
   "source": [
    "# Baseline Accuracy and Summary Statistics"
   ]
  },
  {
   "cell_type": "markdown",
   "id": "8512c91a-c5c3-4bc6-9ac1-b4a5f56e6c33",
   "metadata": {},
   "source": [
    "##### the baseline score here is the majority class (\"pilates\" subreddit posts). This simple baseline model will predict posts to be \"pilates\" 54.4% of the time."
   ]
  },
  {
   "cell_type": "code",
   "execution_count": 140,
   "id": "dc89780f-201b-462d-94d0-4a2c92285b62",
   "metadata": {
    "tags": []
   },
   "outputs": [
    {
     "data": {
      "text/plain": [
       "0.5468663338879645"
      ]
     },
     "execution_count": 140,
     "metadata": {},
     "output_type": "execute_result"
    }
   ],
   "source": [
    "1 - y_test.mean()\n",
    "# 0 = cycling \n",
    "# 1 = pilates"
   ]
  },
  {
   "cell_type": "code",
   "execution_count": 141,
   "id": "0402fee9-3882-4d39-93e3-ee3a45868508",
   "metadata": {
    "tags": []
   },
   "outputs": [
    {
     "data": {
      "text/plain": [
       "subreddit\n",
       "0    3818\n",
       "1    3391\n",
       "Name: count, dtype: int64"
      ]
     },
     "execution_count": 141,
     "metadata": {},
     "output_type": "execute_result"
    }
   ],
   "source": [
    "# balance of y values\n",
    "df['subreddit'].value_counts()"
   ]
  },
  {
   "cell_type": "markdown",
   "id": "75933988-4f7e-4ff9-a848-be26aed6ff3f",
   "metadata": {},
   "source": [
    "### How will success be evaluated?\n",
    "##### Since we have balanced classes our accuracy score of each model will be the biggest determining factor. If we can get our model close to 99% this will be far better than the baseline model described above. The other primary factor is how much can we eliminate false positives with our model."
   ]
  },
  {
   "cell_type": "markdown",
   "id": "e2e92c9d-9ff2-4512-9e52-d2f12be7545f",
   "metadata": {
    "tags": []
   },
   "source": [
    "# Modeling"
   ]
  },
  {
   "cell_type": "markdown",
   "id": "0d1b2035-67b7-4cb9-82ce-c6355925bfc6",
   "metadata": {
    "tags": []
   },
   "source": [
    "#### For this project we will be implementing Logistic Regression, Random Forests, and Naive Bayes Models."
   ]
  },
  {
   "cell_type": "markdown",
   "id": "3e446734-b31e-441e-bf20-d0abdc781cb1",
   "metadata": {},
   "source": [
    "## Naive Bayes Model - Parameter tuning via Gridsearching\n",
    "#### Found a significant improvement in test score by increasing max_featuresto: 20,000 \n",
    "#### These parameters also helped  improve the score slightly: cvec__min_df: 1, cvec_max_df: .85, 'cvec__ngram_range': [(1, 1)], and cvec__stop_words': None"
   ]
  },
  {
   "cell_type": "code",
   "execution_count": 142,
   "id": "b17e127c-9281-4d21-8c70-be7cc76df6ec",
   "metadata": {
    "tags": []
   },
   "outputs": [
    {
     "name": "stdout",
     "output_type": "stream",
     "text": [
      "(7209,)\n",
      "(7209,)\n"
     ]
    }
   ],
   "source": [
    "X = df['self_text']\n",
    "y = df['subreddit']\n",
    "print(X.shape)\n",
    "print(y.shape)"
   ]
  },
  {
   "cell_type": "code",
   "execution_count": 143,
   "id": "cc57bcd4-3099-41eb-8402-34b47f07476b",
   "metadata": {
    "tags": []
   },
   "outputs": [],
   "source": [
    "X_train, X_test, y_train, y_test = train_test_split(X, y, random_state=42)"
   ]
  },
  {
   "cell_type": "code",
   "execution_count": 144,
   "id": "17daa1e4-6608-4752-b4f3-5861e60cef24",
   "metadata": {
    "tags": []
   },
   "outputs": [],
   "source": [
    "pipe = Pipeline([\n",
    "    ('cvec', CountVectorizer()),\n",
    "    ('nb', MultinomialNB())\n",
    "])"
   ]
  },
  {
   "cell_type": "code",
   "execution_count": 145,
   "id": "dc7d278c-2ee2-41df-b015-2f33448c9843",
   "metadata": {
    "tags": []
   },
   "outputs": [
    {
     "data": {
      "text/plain": [
       "{'memory': None,\n",
       " 'steps': [('cvec', CountVectorizer()), ('nb', MultinomialNB())],\n",
       " 'verbose': False,\n",
       " 'cvec': CountVectorizer(),\n",
       " 'nb': MultinomialNB(),\n",
       " 'cvec__analyzer': 'word',\n",
       " 'cvec__binary': False,\n",
       " 'cvec__decode_error': 'strict',\n",
       " 'cvec__dtype': numpy.int64,\n",
       " 'cvec__encoding': 'utf-8',\n",
       " 'cvec__input': 'content',\n",
       " 'cvec__lowercase': True,\n",
       " 'cvec__max_df': 1.0,\n",
       " 'cvec__max_features': None,\n",
       " 'cvec__min_df': 1,\n",
       " 'cvec__ngram_range': (1, 1),\n",
       " 'cvec__preprocessor': None,\n",
       " 'cvec__stop_words': None,\n",
       " 'cvec__strip_accents': None,\n",
       " 'cvec__token_pattern': '(?u)\\\\b\\\\w\\\\w+\\\\b',\n",
       " 'cvec__tokenizer': None,\n",
       " 'cvec__vocabulary': None,\n",
       " 'nb__alpha': 1.0,\n",
       " 'nb__class_prior': None,\n",
       " 'nb__fit_prior': True,\n",
       " 'nb__force_alpha': 'warn'}"
      ]
     },
     "execution_count": 145,
     "metadata": {},
     "output_type": "execute_result"
    }
   ],
   "source": [
    "# All parameters for Naive Bayes and Count Vectorizer\n",
    "pipe.get_params()"
   ]
  },
  {
   "cell_type": "code",
   "execution_count": 146,
   "id": "c322e051-05a1-4f34-ab24-eca4015fb535",
   "metadata": {
    "tags": []
   },
   "outputs": [],
   "source": [
    "pipe_params = {\n",
    "    'cvec__max_features': [20_000],\n",
    "    'cvec__min_df': [1],\n",
    "    'cvec__max_df': [.85],\n",
    "    'cvec__ngram_range': [(1, 1)],\n",
    "    'cvec__stop_words': [None, 'english'],\n",
    "    'cvec__preprocessor' : [None, stem_post],\n",
    "}"
   ]
  },
  {
   "cell_type": "code",
   "execution_count": 147,
   "id": "353aa5d4-5ec7-4286-b613-74ce69cc53df",
   "metadata": {
    "tags": []
   },
   "outputs": [],
   "source": [
    "# stopwords for both subreddits\n",
    "# print(CountVectorizer(stop_words = 'english').get_stop_words())"
   ]
  },
  {
   "cell_type": "code",
   "execution_count": 148,
   "id": "2d3d6635-11cf-4711-b4d0-92770cda3800",
   "metadata": {
    "tags": []
   },
   "outputs": [],
   "source": [
    "# Features explored during this gridsearch:\n",
    "# 3_000, 4_000,\n",
    "# 'cvec__max_features': [2_000, 3,000, 4,000, 5,000, 10_000, 12_000, 20_000, 25,000 30_000]\n",
    "# 'cvec__min_df': [1, 2, 3, 4, 5]\n",
    "# 'cvec__max_df': [.85, .9, .98],\n",
    "# 'cvec__ngram_range': [(1, 1), (1, 2), (2, 2), (3, 3)\n",
    "# 'cvec__stop_words': [None, 'english'],"
   ]
  },
  {
   "cell_type": "markdown",
   "id": "8c9a811a-ca46-4536-9e31-af164e75e3fb",
   "metadata": {},
   "source": [
    "##### • Score goes up as we increase \"max_features\""
   ]
  },
  {
   "cell_type": "code",
   "execution_count": 149,
   "id": "d8dab86b-37e6-4f55-aa86-443d8700c4ae",
   "metadata": {
    "tags": []
   },
   "outputs": [],
   "source": [
    "gs = GridSearchCV(pipe, param_grid=pipe_params, cv=5,)"
   ]
  },
  {
   "cell_type": "code",
   "execution_count": 150,
   "id": "2c7ff6ea-92ca-437b-8578-d33f86006c50",
   "metadata": {
    "tags": []
   },
   "outputs": [
    {
     "name": "stderr",
     "output_type": "stream",
     "text": [
      "C:\\Users\\james\\anaconda3\\Lib\\site-packages\\sklearn\\feature_extraction\\text.py:408: UserWarning: Your stop_words may be inconsistent with your preprocessing. Tokenizing the stop words generated tokens ['abov', 'afterward', 'alon', 'alreadi', 'alway', 'ani', 'anoth', 'anyon', 'anyth', 'anywher', 'becam', 'becaus', 'becom', 'befor', 'besid', 'cri', 'describ', 'dure', 'els', 'elsewher', 'empti', 'everi', 'everyon', 'everyth', 'everywher', 'fifti', 'formerli', 'forti', 'ha', 'henc', 'hereaft', 'herebi', 'hi', 'howev', 'hundr', 'inde', 'latterli', 'mani', 'meanwhil', 'moreov', 'mostli', 'nobodi', 'noon', 'noth', 'nowher', 'onc', 'onli', 'otherwis', 'ourselv', 'perhap', 'pleas', 'seriou', 'sever', 'sinc', 'sincer', 'sixti', 'someon', 'someth', 'sometim', 'somewher', 'themselv', 'thenc', 'thereaft', 'therebi', 'therefor', 'thi', 'thu', 'togeth', 'twelv', 'twenti', 'veri', 'wa', 'whatev', 'whenc', 'whenev', 'wherea', 'whereaft', 'wherebi', 'wherev', 'whi', 'yourselv'] not in stop_words.\n",
      "  warnings.warn(\n",
      "C:\\Users\\james\\anaconda3\\Lib\\site-packages\\sklearn\\feature_extraction\\text.py:408: UserWarning: Your stop_words may be inconsistent with your preprocessing. Tokenizing the stop words generated tokens ['abov', 'afterward', 'alon', 'alreadi', 'alway', 'ani', 'anoth', 'anyon', 'anyth', 'anywher', 'becam', 'becaus', 'becom', 'befor', 'besid', 'cri', 'describ', 'dure', 'els', 'elsewher', 'empti', 'everi', 'everyon', 'everyth', 'everywher', 'fifti', 'formerli', 'forti', 'ha', 'henc', 'hereaft', 'herebi', 'hi', 'howev', 'hundr', 'inde', 'latterli', 'mani', 'meanwhil', 'moreov', 'mostli', 'nobodi', 'noon', 'noth', 'nowher', 'onc', 'onli', 'otherwis', 'ourselv', 'perhap', 'pleas', 'seriou', 'sever', 'sinc', 'sincer', 'sixti', 'someon', 'someth', 'sometim', 'somewher', 'themselv', 'thenc', 'thereaft', 'therebi', 'therefor', 'thi', 'thu', 'togeth', 'twelv', 'twenti', 'veri', 'wa', 'whatev', 'whenc', 'whenev', 'wherea', 'whereaft', 'wherebi', 'wherev', 'whi', 'yourselv'] not in stop_words.\n",
      "  warnings.warn(\n",
      "C:\\Users\\james\\anaconda3\\Lib\\site-packages\\sklearn\\feature_extraction\\text.py:408: UserWarning: Your stop_words may be inconsistent with your preprocessing. Tokenizing the stop words generated tokens ['abov', 'afterward', 'alon', 'alreadi', 'alway', 'ani', 'anoth', 'anyon', 'anyth', 'anywher', 'becam', 'becaus', 'becom', 'befor', 'besid', 'cri', 'describ', 'dure', 'els', 'elsewher', 'empti', 'everi', 'everyon', 'everyth', 'everywher', 'fifti', 'formerli', 'forti', 'ha', 'henc', 'hereaft', 'herebi', 'hi', 'howev', 'hundr', 'inde', 'latterli', 'mani', 'meanwhil', 'moreov', 'mostli', 'nobodi', 'noon', 'noth', 'nowher', 'onc', 'onli', 'otherwis', 'ourselv', 'perhap', 'pleas', 'seriou', 'sever', 'sinc', 'sincer', 'sixti', 'someon', 'someth', 'sometim', 'somewher', 'themselv', 'thenc', 'thereaft', 'therebi', 'therefor', 'thi', 'thu', 'togeth', 'twelv', 'twenti', 'veri', 'wa', 'whatev', 'whenc', 'whenev', 'wherea', 'whereaft', 'wherebi', 'wherev', 'whi', 'yourselv'] not in stop_words.\n",
      "  warnings.warn(\n",
      "C:\\Users\\james\\anaconda3\\Lib\\site-packages\\sklearn\\feature_extraction\\text.py:408: UserWarning: Your stop_words may be inconsistent with your preprocessing. Tokenizing the stop words generated tokens ['abov', 'afterward', 'alon', 'alreadi', 'alway', 'ani', 'anoth', 'anyon', 'anyth', 'anywher', 'becam', 'becaus', 'becom', 'befor', 'besid', 'cri', 'describ', 'dure', 'els', 'elsewher', 'empti', 'everi', 'everyon', 'everyth', 'everywher', 'fifti', 'formerli', 'forti', 'ha', 'henc', 'hereaft', 'herebi', 'hi', 'howev', 'hundr', 'inde', 'latterli', 'mani', 'meanwhil', 'moreov', 'mostli', 'nobodi', 'noon', 'noth', 'nowher', 'onc', 'onli', 'otherwis', 'ourselv', 'perhap', 'pleas', 'seriou', 'sever', 'sinc', 'sincer', 'sixti', 'someon', 'someth', 'sometim', 'somewher', 'themselv', 'thenc', 'thereaft', 'therebi', 'therefor', 'thi', 'thu', 'togeth', 'twelv', 'twenti', 'veri', 'wa', 'whatev', 'whenc', 'whenev', 'wherea', 'whereaft', 'wherebi', 'wherev', 'whi', 'yourselv'] not in stop_words.\n",
      "  warnings.warn(\n",
      "C:\\Users\\james\\anaconda3\\Lib\\site-packages\\sklearn\\feature_extraction\\text.py:408: UserWarning: Your stop_words may be inconsistent with your preprocessing. Tokenizing the stop words generated tokens ['abov', 'afterward', 'alon', 'alreadi', 'alway', 'ani', 'anoth', 'anyon', 'anyth', 'anywher', 'becam', 'becaus', 'becom', 'befor', 'besid', 'cri', 'describ', 'dure', 'els', 'elsewher', 'empti', 'everi', 'everyon', 'everyth', 'everywher', 'fifti', 'formerli', 'forti', 'ha', 'henc', 'hereaft', 'herebi', 'hi', 'howev', 'hundr', 'inde', 'latterli', 'mani', 'meanwhil', 'moreov', 'mostli', 'nobodi', 'noon', 'noth', 'nowher', 'onc', 'onli', 'otherwis', 'ourselv', 'perhap', 'pleas', 'seriou', 'sever', 'sinc', 'sincer', 'sixti', 'someon', 'someth', 'sometim', 'somewher', 'themselv', 'thenc', 'thereaft', 'therebi', 'therefor', 'thi', 'thu', 'togeth', 'twelv', 'twenti', 'veri', 'wa', 'whatev', 'whenc', 'whenev', 'wherea', 'whereaft', 'wherebi', 'wherev', 'whi', 'yourselv'] not in stop_words.\n",
      "  warnings.warn(\n"
     ]
    },
    {
     "data": {
      "text/html": [
       "<style>#sk-container-id-4 {color: black;}#sk-container-id-4 pre{padding: 0;}#sk-container-id-4 div.sk-toggleable {background-color: white;}#sk-container-id-4 label.sk-toggleable__label {cursor: pointer;display: block;width: 100%;margin-bottom: 0;padding: 0.3em;box-sizing: border-box;text-align: center;}#sk-container-id-4 label.sk-toggleable__label-arrow:before {content: \"▸\";float: left;margin-right: 0.25em;color: #696969;}#sk-container-id-4 label.sk-toggleable__label-arrow:hover:before {color: black;}#sk-container-id-4 div.sk-estimator:hover label.sk-toggleable__label-arrow:before {color: black;}#sk-container-id-4 div.sk-toggleable__content {max-height: 0;max-width: 0;overflow: hidden;text-align: left;background-color: #f0f8ff;}#sk-container-id-4 div.sk-toggleable__content pre {margin: 0.2em;color: black;border-radius: 0.25em;background-color: #f0f8ff;}#sk-container-id-4 input.sk-toggleable__control:checked~div.sk-toggleable__content {max-height: 200px;max-width: 100%;overflow: auto;}#sk-container-id-4 input.sk-toggleable__control:checked~label.sk-toggleable__label-arrow:before {content: \"▾\";}#sk-container-id-4 div.sk-estimator input.sk-toggleable__control:checked~label.sk-toggleable__label {background-color: #d4ebff;}#sk-container-id-4 div.sk-label input.sk-toggleable__control:checked~label.sk-toggleable__label {background-color: #d4ebff;}#sk-container-id-4 input.sk-hidden--visually {border: 0;clip: rect(1px 1px 1px 1px);clip: rect(1px, 1px, 1px, 1px);height: 1px;margin: -1px;overflow: hidden;padding: 0;position: absolute;width: 1px;}#sk-container-id-4 div.sk-estimator {font-family: monospace;background-color: #f0f8ff;border: 1px dotted black;border-radius: 0.25em;box-sizing: border-box;margin-bottom: 0.5em;}#sk-container-id-4 div.sk-estimator:hover {background-color: #d4ebff;}#sk-container-id-4 div.sk-parallel-item::after {content: \"\";width: 100%;border-bottom: 1px solid gray;flex-grow: 1;}#sk-container-id-4 div.sk-label:hover label.sk-toggleable__label {background-color: #d4ebff;}#sk-container-id-4 div.sk-serial::before {content: \"\";position: absolute;border-left: 1px solid gray;box-sizing: border-box;top: 0;bottom: 0;left: 50%;z-index: 0;}#sk-container-id-4 div.sk-serial {display: flex;flex-direction: column;align-items: center;background-color: white;padding-right: 0.2em;padding-left: 0.2em;position: relative;}#sk-container-id-4 div.sk-item {position: relative;z-index: 1;}#sk-container-id-4 div.sk-parallel {display: flex;align-items: stretch;justify-content: center;background-color: white;position: relative;}#sk-container-id-4 div.sk-item::before, #sk-container-id-4 div.sk-parallel-item::before {content: \"\";position: absolute;border-left: 1px solid gray;box-sizing: border-box;top: 0;bottom: 0;left: 50%;z-index: -1;}#sk-container-id-4 div.sk-parallel-item {display: flex;flex-direction: column;z-index: 1;position: relative;background-color: white;}#sk-container-id-4 div.sk-parallel-item:first-child::after {align-self: flex-end;width: 50%;}#sk-container-id-4 div.sk-parallel-item:last-child::after {align-self: flex-start;width: 50%;}#sk-container-id-4 div.sk-parallel-item:only-child::after {width: 0;}#sk-container-id-4 div.sk-dashed-wrapped {border: 1px dashed gray;margin: 0 0.4em 0.5em 0.4em;box-sizing: border-box;padding-bottom: 0.4em;background-color: white;}#sk-container-id-4 div.sk-label label {font-family: monospace;font-weight: bold;display: inline-block;line-height: 1.2em;}#sk-container-id-4 div.sk-label-container {text-align: center;}#sk-container-id-4 div.sk-container {/* jupyter's `normalize.less` sets `[hidden] { display: none; }` but bootstrap.min.css set `[hidden] { display: none !important; }` so we also need the `!important` here to be able to override the default hidden behavior on the sphinx rendered scikit-learn.org. See: https://github.com/scikit-learn/scikit-learn/issues/21755 */display: inline-block !important;position: relative;}#sk-container-id-4 div.sk-text-repr-fallback {display: none;}</style><div id=\"sk-container-id-4\" class=\"sk-top-container\"><div class=\"sk-text-repr-fallback\"><pre>GridSearchCV(cv=5,\n",
       "             estimator=Pipeline(steps=[(&#x27;cvec&#x27;, CountVectorizer()),\n",
       "                                       (&#x27;nb&#x27;, MultinomialNB())]),\n",
       "             param_grid={&#x27;cvec__max_df&#x27;: [0.85], &#x27;cvec__max_features&#x27;: [20000],\n",
       "                         &#x27;cvec__min_df&#x27;: [1], &#x27;cvec__ngram_range&#x27;: [(1, 1)],\n",
       "                         &#x27;cvec__preprocessor&#x27;: [None,\n",
       "                                                &lt;function stem_post at 0x0000029A85835260&gt;],\n",
       "                         &#x27;cvec__stop_words&#x27;: [None, &#x27;english&#x27;]})</pre><b>In a Jupyter environment, please rerun this cell to show the HTML representation or trust the notebook. <br />On GitHub, the HTML representation is unable to render, please try loading this page with nbviewer.org.</b></div><div class=\"sk-container\" hidden><div class=\"sk-item sk-dashed-wrapped\"><div class=\"sk-label-container\"><div class=\"sk-label sk-toggleable\"><input class=\"sk-toggleable__control sk-hidden--visually\" id=\"sk-estimator-id-7\" type=\"checkbox\" ><label for=\"sk-estimator-id-7\" class=\"sk-toggleable__label sk-toggleable__label-arrow\">GridSearchCV</label><div class=\"sk-toggleable__content\"><pre>GridSearchCV(cv=5,\n",
       "             estimator=Pipeline(steps=[(&#x27;cvec&#x27;, CountVectorizer()),\n",
       "                                       (&#x27;nb&#x27;, MultinomialNB())]),\n",
       "             param_grid={&#x27;cvec__max_df&#x27;: [0.85], &#x27;cvec__max_features&#x27;: [20000],\n",
       "                         &#x27;cvec__min_df&#x27;: [1], &#x27;cvec__ngram_range&#x27;: [(1, 1)],\n",
       "                         &#x27;cvec__preprocessor&#x27;: [None,\n",
       "                                                &lt;function stem_post at 0x0000029A85835260&gt;],\n",
       "                         &#x27;cvec__stop_words&#x27;: [None, &#x27;english&#x27;]})</pre></div></div></div><div class=\"sk-parallel\"><div class=\"sk-parallel-item\"><div class=\"sk-item\"><div class=\"sk-label-container\"><div class=\"sk-label sk-toggleable\"><input class=\"sk-toggleable__control sk-hidden--visually\" id=\"sk-estimator-id-8\" type=\"checkbox\" ><label for=\"sk-estimator-id-8\" class=\"sk-toggleable__label sk-toggleable__label-arrow\">estimator: Pipeline</label><div class=\"sk-toggleable__content\"><pre>Pipeline(steps=[(&#x27;cvec&#x27;, CountVectorizer()), (&#x27;nb&#x27;, MultinomialNB())])</pre></div></div></div><div class=\"sk-serial\"><div class=\"sk-item\"><div class=\"sk-serial\"><div class=\"sk-item\"><div class=\"sk-estimator sk-toggleable\"><input class=\"sk-toggleable__control sk-hidden--visually\" id=\"sk-estimator-id-9\" type=\"checkbox\" ><label for=\"sk-estimator-id-9\" class=\"sk-toggleable__label sk-toggleable__label-arrow\">CountVectorizer</label><div class=\"sk-toggleable__content\"><pre>CountVectorizer()</pre></div></div></div><div class=\"sk-item\"><div class=\"sk-estimator sk-toggleable\"><input class=\"sk-toggleable__control sk-hidden--visually\" id=\"sk-estimator-id-10\" type=\"checkbox\" ><label for=\"sk-estimator-id-10\" class=\"sk-toggleable__label sk-toggleable__label-arrow\">MultinomialNB</label><div class=\"sk-toggleable__content\"><pre>MultinomialNB()</pre></div></div></div></div></div></div></div></div></div></div></div></div>"
      ],
      "text/plain": [
       "GridSearchCV(cv=5,\n",
       "             estimator=Pipeline(steps=[('cvec', CountVectorizer()),\n",
       "                                       ('nb', MultinomialNB())]),\n",
       "             param_grid={'cvec__max_df': [0.85], 'cvec__max_features': [20000],\n",
       "                         'cvec__min_df': [1], 'cvec__ngram_range': [(1, 1)],\n",
       "                         'cvec__preprocessor': [None,\n",
       "                                                <function stem_post at 0x0000029A85835260>],\n",
       "                         'cvec__stop_words': [None, 'english']})"
      ]
     },
     "execution_count": 150,
     "metadata": {},
     "output_type": "execute_result"
    }
   ],
   "source": [
    "gs.fit(X_train, y_train)"
   ]
  },
  {
   "cell_type": "code",
   "execution_count": 151,
   "id": "dc2c150d-406e-484c-ae17-a4078df554f8",
   "metadata": {
    "tags": []
   },
   "outputs": [
    {
     "data": {
      "text/plain": [
       "{'cvec__max_df': 0.85,\n",
       " 'cvec__max_features': 20000,\n",
       " 'cvec__min_df': 1,\n",
       " 'cvec__ngram_range': (1, 1),\n",
       " 'cvec__preprocessor': None,\n",
       " 'cvec__stop_words': 'english'}"
      ]
     },
     "execution_count": 151,
     "metadata": {},
     "output_type": "execute_result"
    }
   ],
   "source": [
    "gs.best_params_"
   ]
  },
  {
   "cell_type": "code",
   "execution_count": 152,
   "id": "8c73f5a5-c0d5-4f85-9ea9-55309e16115f",
   "metadata": {
    "tags": []
   },
   "outputs": [
    {
     "data": {
      "text/plain": [
       "(0.9900110987791343, 0.9828064337215752)"
      ]
     },
     "execution_count": 152,
     "metadata": {},
     "output_type": "execute_result"
    }
   ],
   "source": [
    "gs.score(X_train, y_train), gs.score(X_test, y_test)"
   ]
  },
  {
   "cell_type": "markdown",
   "id": "e2ae0ae8-7b8c-460c-a08d-6fe9fc2e7346",
   "metadata": {},
   "source": [
    "## Logistic Regression and Count Vectorizer "
   ]
  },
  {
   "cell_type": "code",
   "execution_count": 153,
   "id": "7582187f-41c2-4a19-9d45-7a9510c29d32",
   "metadata": {
    "tags": []
   },
   "outputs": [],
   "source": [
    "X = df['self_text']\n",
    "y = df['subreddit']"
   ]
  },
  {
   "cell_type": "code",
   "execution_count": 154,
   "id": "de4cc44a-79e5-4b59-a4c9-c9390f37863c",
   "metadata": {
    "tags": []
   },
   "outputs": [],
   "source": [
    "X_train, X_test, y_train, y_test = train_test_split(X, y, random_state=42)"
   ]
  },
  {
   "cell_type": "code",
   "execution_count": 155,
   "id": "5b7d9ca3-7bf3-4d01-b103-edf98e050fa4",
   "metadata": {
    "tags": []
   },
   "outputs": [],
   "source": [
    "# cvec = CountVectorizer() scores below without using stop words: \n",
    "# train score 0.999075\n",
    "# test score 0.988352"
   ]
  },
  {
   "cell_type": "code",
   "execution_count": 156,
   "id": "7858ed2a-b8a5-4a2f-9f90-3c31bc421735",
   "metadata": {
    "tags": []
   },
   "outputs": [],
   "source": [
    "# Test score improved with using stop words(english)\n",
    "cvec = CountVectorizer(stop_words= 'english')\n",
    "# train score 0.999075\n",
    "# test score 0.991125"
   ]
  },
  {
   "cell_type": "code",
   "execution_count": 157,
   "id": "6e33d0a8-3527-4584-bf67-ddd4f4eafab8",
   "metadata": {
    "tags": []
   },
   "outputs": [],
   "source": [
    "cvec.fit(X_train)\n",
    "X_train_cvec = cvec.transform(X_train)\n",
    "X_test_cvec = cvec.transform(X_test)"
   ]
  },
  {
   "cell_type": "code",
   "execution_count": 158,
   "id": "484073bb-aa14-4357-b283-c2d1e0b36caf",
   "metadata": {
    "tags": []
   },
   "outputs": [],
   "source": [
    "logreg = LogisticRegression(max_iter=10_000)"
   ]
  },
  {
   "cell_type": "code",
   "execution_count": 159,
   "id": "aec07a45-3ad9-45eb-8372-0ef86ef5c27c",
   "metadata": {
    "tags": []
   },
   "outputs": [
    {
     "name": "stdout",
     "output_type": "stream",
     "text": [
      "0.9990751017388088\n",
      "0.992789794786467\n"
     ]
    }
   ],
   "source": [
    "logreg.fit(X_train_cvec, y_train)\n",
    "print(logreg.score(X_train_cvec, y_train))\n",
    "print(logreg.score(X_test_cvec, y_test))"
   ]
  },
  {
   "cell_type": "markdown",
   "id": "622bbee5-fc4b-4ee6-8e12-acfd70d32477",
   "metadata": {},
   "source": [
    "## Random Forests Model"
   ]
  },
  {
   "cell_type": "code",
   "execution_count": 160,
   "id": "a0251859-a52b-433f-a19c-9fbf132626cc",
   "metadata": {},
   "outputs": [],
   "source": [
    "X = df['self_text']\n",
    "y = df['subreddit']"
   ]
  },
  {
   "cell_type": "code",
   "execution_count": 161,
   "id": "b1e37fbe-f513-40da-8cce-13d0d743caad",
   "metadata": {
    "tags": []
   },
   "outputs": [],
   "source": [
    "X_train, X_test, y_train, y_test = train_test_split(X, y, random_state=42)"
   ]
  },
  {
   "cell_type": "code",
   "execution_count": 162,
   "id": "a689a61a-17b3-4185-8600-d74320ae6de4",
   "metadata": {
    "tags": []
   },
   "outputs": [],
   "source": [
    "cvec.fit(X_train)\n",
    "X_train_cvec = cvec.transform(X_train)\n",
    "X_test_cvec = cvec.transform(X_test)"
   ]
  },
  {
   "cell_type": "code",
   "execution_count": 163,
   "id": "68ae0e27-999c-4989-bcdf-fe01e9ff91e2",
   "metadata": {},
   "outputs": [
    {
     "data": {
      "text/html": [
       "<div>\n",
       "<style scoped>\n",
       "    .dataframe tbody tr th:only-of-type {\n",
       "        vertical-align: middle;\n",
       "    }\n",
       "\n",
       "    .dataframe tbody tr th {\n",
       "        vertical-align: top;\n",
       "    }\n",
       "\n",
       "    .dataframe thead th {\n",
       "        text-align: right;\n",
       "    }\n",
       "</style>\n",
       "<table border=\"1\" class=\"dataframe\">\n",
       "  <thead>\n",
       "    <tr style=\"text-align: right;\">\n",
       "      <th></th>\n",
       "      <th>00</th>\n",
       "      <th>000</th>\n",
       "      <th>000ft</th>\n",
       "      <th>000lb</th>\n",
       "      <th>000m</th>\n",
       "      <th>000rmb</th>\n",
       "      <th>00am</th>\n",
       "      <th>00pm</th>\n",
       "      <th>015_revo</th>\n",
       "      <th>01hpwmbmasn561fv6nw34hmk0c</th>\n",
       "      <th>...</th>\n",
       "      <th>zoom</th>\n",
       "      <th>zt8dxmptv</th>\n",
       "      <th>zumba</th>\n",
       "      <th>zumo</th>\n",
       "      <th>zurich</th>\n",
       "      <th>zw4</th>\n",
       "      <th>zwift</th>\n",
       "      <th>zwifthub</th>\n",
       "      <th>århus</th>\n",
       "      <th>ăn</th>\n",
       "    </tr>\n",
       "  </thead>\n",
       "  <tbody>\n",
       "    <tr>\n",
       "      <th>0</th>\n",
       "      <td>0</td>\n",
       "      <td>0</td>\n",
       "      <td>0</td>\n",
       "      <td>0</td>\n",
       "      <td>0</td>\n",
       "      <td>0</td>\n",
       "      <td>0</td>\n",
       "      <td>0</td>\n",
       "      <td>0</td>\n",
       "      <td>0</td>\n",
       "      <td>...</td>\n",
       "      <td>0</td>\n",
       "      <td>0</td>\n",
       "      <td>0</td>\n",
       "      <td>0</td>\n",
       "      <td>0</td>\n",
       "      <td>0</td>\n",
       "      <td>0</td>\n",
       "      <td>0</td>\n",
       "      <td>0</td>\n",
       "      <td>0</td>\n",
       "    </tr>\n",
       "    <tr>\n",
       "      <th>1</th>\n",
       "      <td>0</td>\n",
       "      <td>0</td>\n",
       "      <td>0</td>\n",
       "      <td>0</td>\n",
       "      <td>0</td>\n",
       "      <td>0</td>\n",
       "      <td>0</td>\n",
       "      <td>0</td>\n",
       "      <td>0</td>\n",
       "      <td>0</td>\n",
       "      <td>...</td>\n",
       "      <td>0</td>\n",
       "      <td>0</td>\n",
       "      <td>0</td>\n",
       "      <td>0</td>\n",
       "      <td>0</td>\n",
       "      <td>0</td>\n",
       "      <td>0</td>\n",
       "      <td>0</td>\n",
       "      <td>0</td>\n",
       "      <td>0</td>\n",
       "    </tr>\n",
       "    <tr>\n",
       "      <th>2</th>\n",
       "      <td>0</td>\n",
       "      <td>0</td>\n",
       "      <td>0</td>\n",
       "      <td>0</td>\n",
       "      <td>0</td>\n",
       "      <td>0</td>\n",
       "      <td>0</td>\n",
       "      <td>0</td>\n",
       "      <td>0</td>\n",
       "      <td>0</td>\n",
       "      <td>...</td>\n",
       "      <td>0</td>\n",
       "      <td>0</td>\n",
       "      <td>0</td>\n",
       "      <td>0</td>\n",
       "      <td>0</td>\n",
       "      <td>0</td>\n",
       "      <td>0</td>\n",
       "      <td>0</td>\n",
       "      <td>0</td>\n",
       "      <td>0</td>\n",
       "    </tr>\n",
       "  </tbody>\n",
       "</table>\n",
       "<p>3 rows × 16959 columns</p>\n",
       "</div>"
      ],
      "text/plain": [
       "   00  000  000ft  000lb  000m  000rmb  00am  00pm  015_revo  \\\n",
       "0   0    0      0      0     0       0     0     0         0   \n",
       "1   0    0      0      0     0       0     0     0         0   \n",
       "2   0    0      0      0     0       0     0     0         0   \n",
       "\n",
       "   01hpwmbmasn561fv6nw34hmk0c  ...  zoom  zt8dxmptv  zumba  zumo  zurich  zw4  \\\n",
       "0                           0  ...     0          0      0     0       0    0   \n",
       "1                           0  ...     0          0      0     0       0    0   \n",
       "2                           0  ...     0          0      0     0       0    0   \n",
       "\n",
       "   zwift  zwifthub  århus  ăn  \n",
       "0      0         0      0   0  \n",
       "1      0         0      0   0  \n",
       "2      0         0      0   0  \n",
       "\n",
       "[3 rows x 16959 columns]"
      ]
     },
     "execution_count": 163,
     "metadata": {},
     "output_type": "execute_result"
    }
   ],
   "source": [
    "X_train_df = pd.DataFrame(X_train_cvec.todense(), columns=cvec.get_feature_names_out())\n",
    "X_train_df.head(3)"
   ]
  },
  {
   "cell_type": "code",
   "execution_count": 164,
   "id": "6d115f3b-4f38-45a0-bb17-b0200dd56251",
   "metadata": {},
   "outputs": [
    {
     "data": {
      "text/plain": [
       "0.5238623751387348"
      ]
     },
     "execution_count": 164,
     "metadata": {},
     "output_type": "execute_result"
    }
   ],
   "source": [
    "1 - y_train.mean()"
   ]
  },
  {
   "cell_type": "code",
   "execution_count": 165,
   "id": "5253a81e-3af3-4b57-bf45-f8347d76d79f",
   "metadata": {},
   "outputs": [
    {
     "data": {
      "text/html": [
       "<style>#sk-container-id-5 {color: black;}#sk-container-id-5 pre{padding: 0;}#sk-container-id-5 div.sk-toggleable {background-color: white;}#sk-container-id-5 label.sk-toggleable__label {cursor: pointer;display: block;width: 100%;margin-bottom: 0;padding: 0.3em;box-sizing: border-box;text-align: center;}#sk-container-id-5 label.sk-toggleable__label-arrow:before {content: \"▸\";float: left;margin-right: 0.25em;color: #696969;}#sk-container-id-5 label.sk-toggleable__label-arrow:hover:before {color: black;}#sk-container-id-5 div.sk-estimator:hover label.sk-toggleable__label-arrow:before {color: black;}#sk-container-id-5 div.sk-toggleable__content {max-height: 0;max-width: 0;overflow: hidden;text-align: left;background-color: #f0f8ff;}#sk-container-id-5 div.sk-toggleable__content pre {margin: 0.2em;color: black;border-radius: 0.25em;background-color: #f0f8ff;}#sk-container-id-5 input.sk-toggleable__control:checked~div.sk-toggleable__content {max-height: 200px;max-width: 100%;overflow: auto;}#sk-container-id-5 input.sk-toggleable__control:checked~label.sk-toggleable__label-arrow:before {content: \"▾\";}#sk-container-id-5 div.sk-estimator input.sk-toggleable__control:checked~label.sk-toggleable__label {background-color: #d4ebff;}#sk-container-id-5 div.sk-label input.sk-toggleable__control:checked~label.sk-toggleable__label {background-color: #d4ebff;}#sk-container-id-5 input.sk-hidden--visually {border: 0;clip: rect(1px 1px 1px 1px);clip: rect(1px, 1px, 1px, 1px);height: 1px;margin: -1px;overflow: hidden;padding: 0;position: absolute;width: 1px;}#sk-container-id-5 div.sk-estimator {font-family: monospace;background-color: #f0f8ff;border: 1px dotted black;border-radius: 0.25em;box-sizing: border-box;margin-bottom: 0.5em;}#sk-container-id-5 div.sk-estimator:hover {background-color: #d4ebff;}#sk-container-id-5 div.sk-parallel-item::after {content: \"\";width: 100%;border-bottom: 1px solid gray;flex-grow: 1;}#sk-container-id-5 div.sk-label:hover label.sk-toggleable__label {background-color: #d4ebff;}#sk-container-id-5 div.sk-serial::before {content: \"\";position: absolute;border-left: 1px solid gray;box-sizing: border-box;top: 0;bottom: 0;left: 50%;z-index: 0;}#sk-container-id-5 div.sk-serial {display: flex;flex-direction: column;align-items: center;background-color: white;padding-right: 0.2em;padding-left: 0.2em;position: relative;}#sk-container-id-5 div.sk-item {position: relative;z-index: 1;}#sk-container-id-5 div.sk-parallel {display: flex;align-items: stretch;justify-content: center;background-color: white;position: relative;}#sk-container-id-5 div.sk-item::before, #sk-container-id-5 div.sk-parallel-item::before {content: \"\";position: absolute;border-left: 1px solid gray;box-sizing: border-box;top: 0;bottom: 0;left: 50%;z-index: -1;}#sk-container-id-5 div.sk-parallel-item {display: flex;flex-direction: column;z-index: 1;position: relative;background-color: white;}#sk-container-id-5 div.sk-parallel-item:first-child::after {align-self: flex-end;width: 50%;}#sk-container-id-5 div.sk-parallel-item:last-child::after {align-self: flex-start;width: 50%;}#sk-container-id-5 div.sk-parallel-item:only-child::after {width: 0;}#sk-container-id-5 div.sk-dashed-wrapped {border: 1px dashed gray;margin: 0 0.4em 0.5em 0.4em;box-sizing: border-box;padding-bottom: 0.4em;background-color: white;}#sk-container-id-5 div.sk-label label {font-family: monospace;font-weight: bold;display: inline-block;line-height: 1.2em;}#sk-container-id-5 div.sk-label-container {text-align: center;}#sk-container-id-5 div.sk-container {/* jupyter's `normalize.less` sets `[hidden] { display: none; }` but bootstrap.min.css set `[hidden] { display: none !important; }` so we also need the `!important` here to be able to override the default hidden behavior on the sphinx rendered scikit-learn.org. See: https://github.com/scikit-learn/scikit-learn/issues/21755 */display: inline-block !important;position: relative;}#sk-container-id-5 div.sk-text-repr-fallback {display: none;}</style><div id=\"sk-container-id-5\" class=\"sk-top-container\"><div class=\"sk-text-repr-fallback\"><pre>RandomForestClassifier(oob_score=True)</pre><b>In a Jupyter environment, please rerun this cell to show the HTML representation or trust the notebook. <br />On GitHub, the HTML representation is unable to render, please try loading this page with nbviewer.org.</b></div><div class=\"sk-container\" hidden><div class=\"sk-item\"><div class=\"sk-estimator sk-toggleable\"><input class=\"sk-toggleable__control sk-hidden--visually\" id=\"sk-estimator-id-11\" type=\"checkbox\" checked><label for=\"sk-estimator-id-11\" class=\"sk-toggleable__label sk-toggleable__label-arrow\">RandomForestClassifier</label><div class=\"sk-toggleable__content\"><pre>RandomForestClassifier(oob_score=True)</pre></div></div></div></div></div>"
      ],
      "text/plain": [
       "RandomForestClassifier(oob_score=True)"
      ]
     },
     "execution_count": 165,
     "metadata": {},
     "output_type": "execute_result"
    }
   ],
   "source": [
    "rf = RandomForestClassifier(oob_score=True, max_features='sqrt')\n",
    "rf.fit(X_train_cvec, y_train)"
   ]
  },
  {
   "cell_type": "code",
   "execution_count": 166,
   "id": "7fa9e041-7c6a-47d6-921f-e2d6e7ba73ce",
   "metadata": {},
   "outputs": [
    {
     "data": {
      "text/plain": [
       "(1.0, 0.992789794786467, 0.9896411394746578)"
      ]
     },
     "execution_count": 166,
     "metadata": {},
     "output_type": "execute_result"
    }
   ],
   "source": [
    "rf.score(X_train_cvec, y_train), rf.score(X_test_cvec, y_test), rf.oob_score_"
   ]
  },
  {
   "cell_type": "markdown",
   "id": "d14291d5-39dc-44e5-8494-def9217c024e",
   "metadata": {},
   "source": [
    "#### model is overfit with a train score of 1.0  and test score of .990192"
   ]
  },
  {
   "cell_type": "markdown",
   "id": "18090001-c7cd-46a9-a349-8e45803cbef6",
   "metadata": {
    "tags": []
   },
   "source": [
    "# MODEL OF CHOICE\n",
    "## Logistic Regression w/ GridSearch "
   ]
  },
  {
   "cell_type": "code",
   "execution_count": 167,
   "id": "510b4663-9452-46ca-84c9-517c0152900f",
   "metadata": {
    "tags": []
   },
   "outputs": [
    {
     "data": {
      "text/html": [
       "<div>\n",
       "<style scoped>\n",
       "    .dataframe tbody tr th:only-of-type {\n",
       "        vertical-align: middle;\n",
       "    }\n",
       "\n",
       "    .dataframe tbody tr th {\n",
       "        vertical-align: top;\n",
       "    }\n",
       "\n",
       "    .dataframe thead th {\n",
       "        text-align: right;\n",
       "    }\n",
       "</style>\n",
       "<table border=\"1\" class=\"dataframe\">\n",
       "  <thead>\n",
       "    <tr style=\"text-align: right;\">\n",
       "      <th></th>\n",
       "      <th>self_text</th>\n",
       "      <th>subreddit</th>\n",
       "    </tr>\n",
       "  </thead>\n",
       "  <tbody>\n",
       "    <tr>\n",
       "      <th>0</th>\n",
       "      <td>During the 2023 Tour De France, several of the...</td>\n",
       "      <td>0</td>\n",
       "    </tr>\n",
       "  </tbody>\n",
       "</table>\n",
       "</div>"
      ],
      "text/plain": [
       "                                           self_text  subreddit\n",
       "0  During the 2023 Tour De France, several of the...          0"
      ]
     },
     "execution_count": 167,
     "metadata": {},
     "output_type": "execute_result"
    }
   ],
   "source": [
    "df.head(1)"
   ]
  },
  {
   "cell_type": "code",
   "execution_count": 168,
   "id": "23f2b728-77d1-44a6-9fe0-15f51cd63b33",
   "metadata": {
    "tags": []
   },
   "outputs": [
    {
     "name": "stdout",
     "output_type": "stream",
     "text": [
      "(7209,)\n",
      "(7209,)\n"
     ]
    }
   ],
   "source": [
    "X = df['self_text']\n",
    "y = df['subreddit']\n",
    "print(X.shape)\n",
    "print(y.shape)"
   ]
  },
  {
   "cell_type": "code",
   "execution_count": 169,
   "id": "6daeb5f1-73be-4533-af25-ca91314a25bb",
   "metadata": {
    "tags": []
   },
   "outputs": [],
   "source": [
    "X_train, X_test, y_train, y_test = train_test_split(X, y, random_state=42)"
   ]
  },
  {
   "cell_type": "code",
   "execution_count": 170,
   "id": "da3bc5d2-a375-4901-91a9-d84b5e9271c1",
   "metadata": {
    "tags": []
   },
   "outputs": [],
   "source": [
    "pipe = Pipeline([\n",
    "    ('cvec', CountVectorizer()),\n",
    "    ('log' , LogisticRegression(max_iter = 10_000))\n",
    "])"
   ]
  },
  {
   "cell_type": "code",
   "execution_count": 171,
   "id": "d6fdd756-50a6-406b-9fe7-9cc91e575522",
   "metadata": {
    "tags": []
   },
   "outputs": [
    {
     "data": {
      "text/plain": [
       "{'memory': None,\n",
       " 'steps': [('cvec', CountVectorizer()),\n",
       "  ('log', LogisticRegression(max_iter=10000))],\n",
       " 'verbose': False,\n",
       " 'cvec': CountVectorizer(),\n",
       " 'log': LogisticRegression(max_iter=10000),\n",
       " 'cvec__analyzer': 'word',\n",
       " 'cvec__binary': False,\n",
       " 'cvec__decode_error': 'strict',\n",
       " 'cvec__dtype': numpy.int64,\n",
       " 'cvec__encoding': 'utf-8',\n",
       " 'cvec__input': 'content',\n",
       " 'cvec__lowercase': True,\n",
       " 'cvec__max_df': 1.0,\n",
       " 'cvec__max_features': None,\n",
       " 'cvec__min_df': 1,\n",
       " 'cvec__ngram_range': (1, 1),\n",
       " 'cvec__preprocessor': None,\n",
       " 'cvec__stop_words': None,\n",
       " 'cvec__strip_accents': None,\n",
       " 'cvec__token_pattern': '(?u)\\\\b\\\\w\\\\w+\\\\b',\n",
       " 'cvec__tokenizer': None,\n",
       " 'cvec__vocabulary': None,\n",
       " 'log__C': 1.0,\n",
       " 'log__class_weight': None,\n",
       " 'log__dual': False,\n",
       " 'log__fit_intercept': True,\n",
       " 'log__intercept_scaling': 1,\n",
       " 'log__l1_ratio': None,\n",
       " 'log__max_iter': 10000,\n",
       " 'log__multi_class': 'auto',\n",
       " 'log__n_jobs': None,\n",
       " 'log__penalty': 'l2',\n",
       " 'log__random_state': None,\n",
       " 'log__solver': 'lbfgs',\n",
       " 'log__tol': 0.0001,\n",
       " 'log__verbose': 0,\n",
       " 'log__warm_start': False}"
      ]
     },
     "execution_count": 171,
     "metadata": {},
     "output_type": "execute_result"
    }
   ],
   "source": [
    "# All parameters for Naive Bayes and Count Vectorizer\n",
    "pipe.get_params()"
   ]
  },
  {
   "cell_type": "code",
   "execution_count": 172,
   "id": "31bd2ac6-1dae-4ab7-9b6c-6660eb391841",
   "metadata": {
    "tags": []
   },
   "outputs": [],
   "source": [
    "params = {\n",
    "    'cvec__preprocessor' : [stem_post],\n",
    "    'cvec__stop_words': [None, 'english']\n",
    "}"
   ]
  },
  {
   "cell_type": "markdown",
   "id": "911ce7bf-b8f3-471f-8bfb-d402c3f71c81",
   "metadata": {
    "tags": []
   },
   "source": [
    "### The lemmatizer was removed because the train scorewas  of 1.0 and it lowered the test score, it also consumed extra and uneccessary time to run the model with this function."
   ]
  },
  {
   "cell_type": "code",
   "execution_count": 173,
   "id": "089aca6c-8ab8-4d92-a55d-d93ab8dccd97",
   "metadata": {
    "tags": []
   },
   "outputs": [
    {
     "name": "stderr",
     "output_type": "stream",
     "text": [
      "C:\\Users\\james\\anaconda3\\Lib\\site-packages\\sklearn\\feature_extraction\\text.py:408: UserWarning: Your stop_words may be inconsistent with your preprocessing. Tokenizing the stop words generated tokens ['abov', 'afterward', 'alon', 'alreadi', 'alway', 'ani', 'anoth', 'anyon', 'anyth', 'anywher', 'becam', 'becaus', 'becom', 'befor', 'besid', 'cri', 'describ', 'dure', 'els', 'elsewher', 'empti', 'everi', 'everyon', 'everyth', 'everywher', 'fifti', 'formerli', 'forti', 'ha', 'henc', 'hereaft', 'herebi', 'hi', 'howev', 'hundr', 'inde', 'latterli', 'mani', 'meanwhil', 'moreov', 'mostli', 'nobodi', 'noon', 'noth', 'nowher', 'onc', 'onli', 'otherwis', 'ourselv', 'perhap', 'pleas', 'seriou', 'sever', 'sinc', 'sincer', 'sixti', 'someon', 'someth', 'sometim', 'somewher', 'themselv', 'thenc', 'thereaft', 'therebi', 'therefor', 'thi', 'thu', 'togeth', 'twelv', 'twenti', 'veri', 'wa', 'whatev', 'whenc', 'whenev', 'wherea', 'whereaft', 'wherebi', 'wherev', 'whi', 'yourselv'] not in stop_words.\n",
      "  warnings.warn(\n",
      "C:\\Users\\james\\anaconda3\\Lib\\site-packages\\sklearn\\feature_extraction\\text.py:408: UserWarning: Your stop_words may be inconsistent with your preprocessing. Tokenizing the stop words generated tokens ['abov', 'afterward', 'alon', 'alreadi', 'alway', 'ani', 'anoth', 'anyon', 'anyth', 'anywher', 'becam', 'becaus', 'becom', 'befor', 'besid', 'cri', 'describ', 'dure', 'els', 'elsewher', 'empti', 'everi', 'everyon', 'everyth', 'everywher', 'fifti', 'formerli', 'forti', 'ha', 'henc', 'hereaft', 'herebi', 'hi', 'howev', 'hundr', 'inde', 'latterli', 'mani', 'meanwhil', 'moreov', 'mostli', 'nobodi', 'noon', 'noth', 'nowher', 'onc', 'onli', 'otherwis', 'ourselv', 'perhap', 'pleas', 'seriou', 'sever', 'sinc', 'sincer', 'sixti', 'someon', 'someth', 'sometim', 'somewher', 'themselv', 'thenc', 'thereaft', 'therebi', 'therefor', 'thi', 'thu', 'togeth', 'twelv', 'twenti', 'veri', 'wa', 'whatev', 'whenc', 'whenev', 'wherea', 'whereaft', 'wherebi', 'wherev', 'whi', 'yourselv'] not in stop_words.\n",
      "  warnings.warn(\n",
      "C:\\Users\\james\\anaconda3\\Lib\\site-packages\\sklearn\\feature_extraction\\text.py:408: UserWarning: Your stop_words may be inconsistent with your preprocessing. Tokenizing the stop words generated tokens ['abov', 'afterward', 'alon', 'alreadi', 'alway', 'ani', 'anoth', 'anyon', 'anyth', 'anywher', 'becam', 'becaus', 'becom', 'befor', 'besid', 'cri', 'describ', 'dure', 'els', 'elsewher', 'empti', 'everi', 'everyon', 'everyth', 'everywher', 'fifti', 'formerli', 'forti', 'ha', 'henc', 'hereaft', 'herebi', 'hi', 'howev', 'hundr', 'inde', 'latterli', 'mani', 'meanwhil', 'moreov', 'mostli', 'nobodi', 'noon', 'noth', 'nowher', 'onc', 'onli', 'otherwis', 'ourselv', 'perhap', 'pleas', 'seriou', 'sever', 'sinc', 'sincer', 'sixti', 'someon', 'someth', 'sometim', 'somewher', 'themselv', 'thenc', 'thereaft', 'therebi', 'therefor', 'thi', 'thu', 'togeth', 'twelv', 'twenti', 'veri', 'wa', 'whatev', 'whenc', 'whenev', 'wherea', 'whereaft', 'wherebi', 'wherev', 'whi', 'yourselv'] not in stop_words.\n",
      "  warnings.warn(\n",
      "C:\\Users\\james\\anaconda3\\Lib\\site-packages\\sklearn\\feature_extraction\\text.py:408: UserWarning: Your stop_words may be inconsistent with your preprocessing. Tokenizing the stop words generated tokens ['abov', 'afterward', 'alon', 'alreadi', 'alway', 'ani', 'anoth', 'anyon', 'anyth', 'anywher', 'becam', 'becaus', 'becom', 'befor', 'besid', 'cri', 'describ', 'dure', 'els', 'elsewher', 'empti', 'everi', 'everyon', 'everyth', 'everywher', 'fifti', 'formerli', 'forti', 'ha', 'henc', 'hereaft', 'herebi', 'hi', 'howev', 'hundr', 'inde', 'latterli', 'mani', 'meanwhil', 'moreov', 'mostli', 'nobodi', 'noon', 'noth', 'nowher', 'onc', 'onli', 'otherwis', 'ourselv', 'perhap', 'pleas', 'seriou', 'sever', 'sinc', 'sincer', 'sixti', 'someon', 'someth', 'sometim', 'somewher', 'themselv', 'thenc', 'thereaft', 'therebi', 'therefor', 'thi', 'thu', 'togeth', 'twelv', 'twenti', 'veri', 'wa', 'whatev', 'whenc', 'whenev', 'wherea', 'whereaft', 'wherebi', 'wherev', 'whi', 'yourselv'] not in stop_words.\n",
      "  warnings.warn(\n",
      "C:\\Users\\james\\anaconda3\\Lib\\site-packages\\sklearn\\feature_extraction\\text.py:408: UserWarning: Your stop_words may be inconsistent with your preprocessing. Tokenizing the stop words generated tokens ['abov', 'afterward', 'alon', 'alreadi', 'alway', 'ani', 'anoth', 'anyon', 'anyth', 'anywher', 'becam', 'becaus', 'becom', 'befor', 'besid', 'cri', 'describ', 'dure', 'els', 'elsewher', 'empti', 'everi', 'everyon', 'everyth', 'everywher', 'fifti', 'formerli', 'forti', 'ha', 'henc', 'hereaft', 'herebi', 'hi', 'howev', 'hundr', 'inde', 'latterli', 'mani', 'meanwhil', 'moreov', 'mostli', 'nobodi', 'noon', 'noth', 'nowher', 'onc', 'onli', 'otherwis', 'ourselv', 'perhap', 'pleas', 'seriou', 'sever', 'sinc', 'sincer', 'sixti', 'someon', 'someth', 'sometim', 'somewher', 'themselv', 'thenc', 'thereaft', 'therebi', 'therefor', 'thi', 'thu', 'togeth', 'twelv', 'twenti', 'veri', 'wa', 'whatev', 'whenc', 'whenev', 'wherea', 'whereaft', 'wherebi', 'wherev', 'whi', 'yourselv'] not in stop_words.\n",
      "  warnings.warn(\n",
      "C:\\Users\\james\\anaconda3\\Lib\\site-packages\\sklearn\\feature_extraction\\text.py:408: UserWarning: Your stop_words may be inconsistent with your preprocessing. Tokenizing the stop words generated tokens ['abov', 'afterward', 'alon', 'alreadi', 'alway', 'ani', 'anoth', 'anyon', 'anyth', 'anywher', 'becam', 'becaus', 'becom', 'befor', 'besid', 'cri', 'describ', 'dure', 'els', 'elsewher', 'empti', 'everi', 'everyon', 'everyth', 'everywher', 'fifti', 'formerli', 'forti', 'ha', 'henc', 'hereaft', 'herebi', 'hi', 'howev', 'hundr', 'inde', 'latterli', 'mani', 'meanwhil', 'moreov', 'mostli', 'nobodi', 'noon', 'noth', 'nowher', 'onc', 'onli', 'otherwis', 'ourselv', 'perhap', 'pleas', 'seriou', 'sever', 'sinc', 'sincer', 'sixti', 'someon', 'someth', 'sometim', 'somewher', 'themselv', 'thenc', 'thereaft', 'therebi', 'therefor', 'thi', 'thu', 'togeth', 'twelv', 'twenti', 'veri', 'wa', 'whatev', 'whenc', 'whenev', 'wherea', 'whereaft', 'wherebi', 'wherev', 'whi', 'yourselv'] not in stop_words.\n",
      "  warnings.warn(\n"
     ]
    },
    {
     "name": "stdout",
     "output_type": "stream",
     "text": [
      "0.9990751017388088\n",
      "0.9933444259567388\n",
      "{'cvec__preprocessor': <function stem_post at 0x0000029A85835260>, 'cvec__stop_words': 'english'}\n"
     ]
    }
   ],
   "source": [
    "gs = GridSearchCV(pipe, params)\n",
    "gs.fit(X_train, y_train)\n",
    "print(gs.score(X_train, y_train))\n",
    "print(gs.score(X_test, y_test))\n",
    "print(gs.best_params_);"
   ]
  },
  {
   "cell_type": "code",
   "execution_count": 174,
   "id": "bddd6e83-4b4a-474f-b090-9cd76b65c9f1",
   "metadata": {
    "tags": []
   },
   "outputs": [
    {
     "data": {
      "text/plain": [
       "{'cvec__preprocessor': <function __main__.stem_post(post)>,\n",
       " 'cvec__stop_words': 'english'}"
      ]
     },
     "execution_count": 174,
     "metadata": {},
     "output_type": "execute_result"
    }
   ],
   "source": [
    "gs.best_params_"
   ]
  },
  {
   "cell_type": "markdown",
   "id": "368b620c-75c1-467d-a3bf-53ec254f59cb",
   "metadata": {},
   "source": [
    "## Why was this model the best choice?\n",
    "#### - This model provided the highest train and test score\n",
    "#### - It was not underfit nor overfit as the model performed well on both the train and test score, yet both scores were very close together.\n",
    "#### - Of all posts, it predicted 98.9% were actually from Cycling and 99.5% were actually from Pilates."
   ]
  },
  {
   "cell_type": "markdown",
   "id": "2cc410dc-c912-4fc9-9747-a7b0668cdc93",
   "metadata": {
    "tags": []
   },
   "source": [
    "## Interpretation and Inference"
   ]
  },
  {
   "cell_type": "code",
   "execution_count": 175,
   "id": "0e23f9fe-6baa-4625-ae6f-b64660cde9d9",
   "metadata": {
    "tags": []
   },
   "outputs": [
    {
     "data": {
      "image/png": "[encoded data removed]",
      "text/plain": [
       "<Figure size 640x480 with 2 Axes>"
      ]
     },
     "metadata": {},
     "output_type": "display_data"
    }
   ],
   "source": [
    "preds = gs.predict(X_test)\n",
    "ConfusionMatrixDisplay.from_predictions(y_test, preds, cmap='Blues')\n",
    "plt.title('Confusion Matrix')\n",
    "plt.xlabel('Predicted Posts')\n",
    "plt.ylabel('True Posts');\n",
    "plt.savefig('images/confusionmatrix.png')"
   ]
  },
  {
   "cell_type": "code",
   "execution_count": 176,
   "id": "2db86f0f-587f-4d1b-8934-1c0a399e0db3",
   "metadata": {
    "tags": []
   },
   "outputs": [
    {
     "name": "stdout",
     "output_type": "stream",
     "text": [
      "              precision    recall  f1-score   support\n",
      "\n",
      "           0    0.99291   0.99493   0.99392       986\n",
      "           1    0.99387   0.99143   0.99265       817\n",
      "\n",
      "    accuracy                        0.99334      1803\n",
      "   macro avg    0.99339   0.99318   0.99328      1803\n",
      "weighted avg    0.99335   0.99334   0.99334      1803\n",
      "\n"
     ]
    }
   ],
   "source": [
    "# 0 is Cycling, 1 is Pilates\n",
    "print(classification_report(y_test, preds, digits = 5))"
   ]
  },
  {
   "cell_type": "markdown",
   "id": "5e328d00-1d97-44ac-892d-1e11647fa9f1",
   "metadata": {},
   "source": [
    "### Of all predicted posts, 98.9% were actually from Cycling subreddit and 99.5% of the posts that were predicted to be from Pilates were actually from Pilates. (0.5% were predicted incorrectly) \n",
    "### out of all the posts, the model predicted the outcome correct 99.2% of the time(Precision)."
   ]
  },
  {
   "cell_type": "markdown",
   "id": "8701435e-bee4-4548-abae-32f0adc048f6",
   "metadata": {
    "tags": []
   },
   "source": [
    "## Conclusion and Future Recomendations"
   ]
  },
  {
   "cell_type": "markdown",
   "id": "3886945e-fc6a-4b5b-aad9-6bf1ece78019",
   "metadata": {
    "tags": []
   },
   "source": [
    "#### To conclude, our model of choice proves to predict the subreddit the text came from 99.2% of the time (Specificity)"
   ]
  },
  {
   "cell_type": "markdown",
   "id": "ed5651e6-11e4-4a79-9337-6dbba827e8a6",
   "metadata": {},
   "source": [
    "##### The model proves to eliminate false positives over 99% of the time, alternatively we can say the model might give a false positive 0.5% of the time."
   ]
  },
  {
   "cell_type": "markdown",
   "id": "8cc08155-8682-42e5-9866-fabb0cac8d9f",
   "metadata": {},
   "source": [
    "##### with this model, we can apply it to any subreddit to make the same predictions."
   ]
  },
  {
   "cell_type": "markdown",
   "id": "ac03f8f6-ecc9-4dc4-9f77-e093628df1f7",
   "metadata": {},
   "source": [
    "##### my recommendation for future steps in this project would be to create a function that can combine all of these steps by taking in as many subreddits the user will give it and have it take it all the way to model predictions to further automate this process."
   ]
  }
 ],
 "metadata": {
  "kernelspec": {
   "display_name": "Python 3 (ipykernel)",
   "language": "python",
   "name": "python3"
  },
  "language_info": {
   "codemirror_mode": {
    "name": "ipython",
    "version": 3
   },
   "file_extension": ".py",
   "mimetype": "text/x-python",
   "name": "python",
   "nbconvert_exporter": "python",
   "pygments_lexer": "ipython3",
   "version": "3.11.5"
  }
 },
 "nbformat": 4,
 "nbformat_minor": 5
}
